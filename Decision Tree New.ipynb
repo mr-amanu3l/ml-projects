{
 "cells": [
  {
   "cell_type": "markdown",
   "id": "3bde5497",
   "metadata": {},
   "source": [
    "### Importing required libraries"
   ]
  },
  {
   "cell_type": "code",
   "execution_count": 1,
   "id": "ff5d6f3f",
   "metadata": {},
   "outputs": [],
   "source": [
    "# importing libraries  \n",
    "import numpy as np\n",
    "import matplotlib.pyplot as plt \n",
    "import pandas as pd  "
   ]
  },
  {
   "cell_type": "markdown",
   "id": "e5925ba6",
   "metadata": {},
   "source": [
    "### Loading the dataset"
   ]
  },
  {
   "cell_type": "code",
   "execution_count": 3,
   "id": "52088920",
   "metadata": {},
   "outputs": [
    {
     "data": {
      "text/html": [
       "<div>\n",
       "<style scoped>\n",
       "    .dataframe tbody tr th:only-of-type {\n",
       "        vertical-align: middle;\n",
       "    }\n",
       "\n",
       "    .dataframe tbody tr th {\n",
       "        vertical-align: top;\n",
       "    }\n",
       "\n",
       "    .dataframe thead th {\n",
       "        text-align: right;\n",
       "    }\n",
       "</style>\n",
       "<table border=\"1\" class=\"dataframe\">\n",
       "  <thead>\n",
       "    <tr style=\"text-align: right;\">\n",
       "      <th></th>\n",
       "      <th>User ID</th>\n",
       "      <th>Gender</th>\n",
       "      <th>Age</th>\n",
       "      <th>EstimatedSalary</th>\n",
       "      <th>Purchased</th>\n",
       "    </tr>\n",
       "  </thead>\n",
       "  <tbody>\n",
       "    <tr>\n",
       "      <th>0</th>\n",
       "      <td>15624510</td>\n",
       "      <td>Male</td>\n",
       "      <td>19</td>\n",
       "      <td>19000</td>\n",
       "      <td>0</td>\n",
       "    </tr>\n",
       "    <tr>\n",
       "      <th>1</th>\n",
       "      <td>15810944</td>\n",
       "      <td>Male</td>\n",
       "      <td>35</td>\n",
       "      <td>20000</td>\n",
       "      <td>0</td>\n",
       "    </tr>\n",
       "    <tr>\n",
       "      <th>2</th>\n",
       "      <td>15668575</td>\n",
       "      <td>Female</td>\n",
       "      <td>26</td>\n",
       "      <td>43000</td>\n",
       "      <td>0</td>\n",
       "    </tr>\n",
       "    <tr>\n",
       "      <th>3</th>\n",
       "      <td>15603246</td>\n",
       "      <td>Female</td>\n",
       "      <td>27</td>\n",
       "      <td>57000</td>\n",
       "      <td>0</td>\n",
       "    </tr>\n",
       "    <tr>\n",
       "      <th>4</th>\n",
       "      <td>15804002</td>\n",
       "      <td>Male</td>\n",
       "      <td>19</td>\n",
       "      <td>76000</td>\n",
       "      <td>0</td>\n",
       "    </tr>\n",
       "    <tr>\n",
       "      <th>...</th>\n",
       "      <td>...</td>\n",
       "      <td>...</td>\n",
       "      <td>...</td>\n",
       "      <td>...</td>\n",
       "      <td>...</td>\n",
       "    </tr>\n",
       "    <tr>\n",
       "      <th>395</th>\n",
       "      <td>15691863</td>\n",
       "      <td>Female</td>\n",
       "      <td>46</td>\n",
       "      <td>41000</td>\n",
       "      <td>1</td>\n",
       "    </tr>\n",
       "    <tr>\n",
       "      <th>396</th>\n",
       "      <td>15706071</td>\n",
       "      <td>Male</td>\n",
       "      <td>51</td>\n",
       "      <td>23000</td>\n",
       "      <td>1</td>\n",
       "    </tr>\n",
       "    <tr>\n",
       "      <th>397</th>\n",
       "      <td>15654296</td>\n",
       "      <td>Female</td>\n",
       "      <td>50</td>\n",
       "      <td>20000</td>\n",
       "      <td>1</td>\n",
       "    </tr>\n",
       "    <tr>\n",
       "      <th>398</th>\n",
       "      <td>15755018</td>\n",
       "      <td>Male</td>\n",
       "      <td>36</td>\n",
       "      <td>33000</td>\n",
       "      <td>0</td>\n",
       "    </tr>\n",
       "    <tr>\n",
       "      <th>399</th>\n",
       "      <td>15594041</td>\n",
       "      <td>Female</td>\n",
       "      <td>49</td>\n",
       "      <td>36000</td>\n",
       "      <td>1</td>\n",
       "    </tr>\n",
       "  </tbody>\n",
       "</table>\n",
       "<p>400 rows × 5 columns</p>\n",
       "</div>"
      ],
      "text/plain": [
       "      User ID  Gender  Age  EstimatedSalary  Purchased\n",
       "0    15624510    Male   19            19000          0\n",
       "1    15810944    Male   35            20000          0\n",
       "2    15668575  Female   26            43000          0\n",
       "3    15603246  Female   27            57000          0\n",
       "4    15804002    Male   19            76000          0\n",
       "..        ...     ...  ...              ...        ...\n",
       "395  15691863  Female   46            41000          1\n",
       "396  15706071    Male   51            23000          1\n",
       "397  15654296  Female   50            20000          1\n",
       "398  15755018    Male   36            33000          0\n",
       "399  15594041  Female   49            36000          1\n",
       "\n",
       "[400 rows x 5 columns]"
      ]
     },
     "execution_count": 3,
     "metadata": {},
     "output_type": "execute_result"
    }
   ],
   "source": [
    "df = pd.read_csv('User_Data.csv')\n",
    "df "
   ]
  },
  {
   "cell_type": "code",
   "execution_count": 6,
   "id": "569cc0d8",
   "metadata": {},
   "outputs": [
    {
     "data": {
      "text/html": [
       "<div>\n",
       "<style scoped>\n",
       "    .dataframe tbody tr th:only-of-type {\n",
       "        vertical-align: middle;\n",
       "    }\n",
       "\n",
       "    .dataframe tbody tr th {\n",
       "        vertical-align: top;\n",
       "    }\n",
       "\n",
       "    .dataframe thead th {\n",
       "        text-align: right;\n",
       "    }\n",
       "</style>\n",
       "<table border=\"1\" class=\"dataframe\">\n",
       "  <thead>\n",
       "    <tr style=\"text-align: right;\">\n",
       "      <th></th>\n",
       "      <th>User ID</th>\n",
       "      <th>Gender</th>\n",
       "      <th>Age</th>\n",
       "      <th>EstimatedSalary</th>\n",
       "      <th>Purchased</th>\n",
       "    </tr>\n",
       "  </thead>\n",
       "  <tbody>\n",
       "    <tr>\n",
       "      <th>96</th>\n",
       "      <td>15710257</td>\n",
       "      <td>Female</td>\n",
       "      <td>35</td>\n",
       "      <td>25000</td>\n",
       "      <td>0</td>\n",
       "    </tr>\n",
       "    <tr>\n",
       "      <th>189</th>\n",
       "      <td>15715160</td>\n",
       "      <td>Male</td>\n",
       "      <td>28</td>\n",
       "      <td>32000</td>\n",
       "      <td>0</td>\n",
       "    </tr>\n",
       "    <tr>\n",
       "      <th>22</th>\n",
       "      <td>15714658</td>\n",
       "      <td>Male</td>\n",
       "      <td>48</td>\n",
       "      <td>41000</td>\n",
       "      <td>1</td>\n",
       "    </tr>\n",
       "    <tr>\n",
       "      <th>398</th>\n",
       "      <td>15755018</td>\n",
       "      <td>Male</td>\n",
       "      <td>36</td>\n",
       "      <td>33000</td>\n",
       "      <td>0</td>\n",
       "    </tr>\n",
       "    <tr>\n",
       "      <th>372</th>\n",
       "      <td>15629885</td>\n",
       "      <td>Female</td>\n",
       "      <td>39</td>\n",
       "      <td>73000</td>\n",
       "      <td>0</td>\n",
       "    </tr>\n",
       "  </tbody>\n",
       "</table>\n",
       "</div>"
      ],
      "text/plain": [
       "      User ID  Gender  Age  EstimatedSalary  Purchased\n",
       "96   15710257  Female   35            25000          0\n",
       "189  15715160    Male   28            32000          0\n",
       "22   15714658    Male   48            41000          1\n",
       "398  15755018    Male   36            33000          0\n",
       "372  15629885  Female   39            73000          0"
      ]
     },
     "execution_count": 6,
     "metadata": {},
     "output_type": "execute_result"
    }
   ],
   "source": [
    "df.sample(5)"
   ]
  },
  {
   "cell_type": "markdown",
   "id": "d75c9713",
   "metadata": {},
   "source": [
    "### Droping User Id Column"
   ]
  },
  {
   "cell_type": "code",
   "execution_count": 7,
   "id": "dfc23d0f",
   "metadata": {},
   "outputs": [],
   "source": [
    "df.drop('User ID',axis=1,inplace=True)"
   ]
  },
  {
   "cell_type": "code",
   "execution_count": 8,
   "id": "d57662bd",
   "metadata": {
    "scrolled": true
   },
   "outputs": [
    {
     "data": {
      "text/html": [
       "<div>\n",
       "<style scoped>\n",
       "    .dataframe tbody tr th:only-of-type {\n",
       "        vertical-align: middle;\n",
       "    }\n",
       "\n",
       "    .dataframe tbody tr th {\n",
       "        vertical-align: top;\n",
       "    }\n",
       "\n",
       "    .dataframe thead th {\n",
       "        text-align: right;\n",
       "    }\n",
       "</style>\n",
       "<table border=\"1\" class=\"dataframe\">\n",
       "  <thead>\n",
       "    <tr style=\"text-align: right;\">\n",
       "      <th></th>\n",
       "      <th>Gender</th>\n",
       "      <th>Age</th>\n",
       "      <th>EstimatedSalary</th>\n",
       "      <th>Purchased</th>\n",
       "    </tr>\n",
       "  </thead>\n",
       "  <tbody>\n",
       "    <tr>\n",
       "      <th>0</th>\n",
       "      <td>Male</td>\n",
       "      <td>19</td>\n",
       "      <td>19000</td>\n",
       "      <td>0</td>\n",
       "    </tr>\n",
       "    <tr>\n",
       "      <th>1</th>\n",
       "      <td>Male</td>\n",
       "      <td>35</td>\n",
       "      <td>20000</td>\n",
       "      <td>0</td>\n",
       "    </tr>\n",
       "    <tr>\n",
       "      <th>2</th>\n",
       "      <td>Female</td>\n",
       "      <td>26</td>\n",
       "      <td>43000</td>\n",
       "      <td>0</td>\n",
       "    </tr>\n",
       "    <tr>\n",
       "      <th>3</th>\n",
       "      <td>Female</td>\n",
       "      <td>27</td>\n",
       "      <td>57000</td>\n",
       "      <td>0</td>\n",
       "    </tr>\n",
       "    <tr>\n",
       "      <th>4</th>\n",
       "      <td>Male</td>\n",
       "      <td>19</td>\n",
       "      <td>76000</td>\n",
       "      <td>0</td>\n",
       "    </tr>\n",
       "  </tbody>\n",
       "</table>\n",
       "</div>"
      ],
      "text/plain": [
       "   Gender  Age  EstimatedSalary  Purchased\n",
       "0    Male   19            19000          0\n",
       "1    Male   35            20000          0\n",
       "2  Female   26            43000          0\n",
       "3  Female   27            57000          0\n",
       "4    Male   19            76000          0"
      ]
     },
     "execution_count": 8,
     "metadata": {},
     "output_type": "execute_result"
    }
   ],
   "source": [
    "df.head()"
   ]
  },
  {
   "cell_type": "markdown",
   "id": "fdd7a4bd",
   "metadata": {},
   "source": [
    "### Renaming the column"
   ]
  },
  {
   "cell_type": "code",
   "execution_count": 9,
   "id": "766af0d4",
   "metadata": {},
   "outputs": [],
   "source": [
    "df.rename(columns={'EstimatedSalary':'Salary'},inplace=True)"
   ]
  },
  {
   "cell_type": "code",
   "execution_count": 10,
   "id": "50f5bade",
   "metadata": {},
   "outputs": [
    {
     "data": {
      "text/html": [
       "<div>\n",
       "<style scoped>\n",
       "    .dataframe tbody tr th:only-of-type {\n",
       "        vertical-align: middle;\n",
       "    }\n",
       "\n",
       "    .dataframe tbody tr th {\n",
       "        vertical-align: top;\n",
       "    }\n",
       "\n",
       "    .dataframe thead th {\n",
       "        text-align: right;\n",
       "    }\n",
       "</style>\n",
       "<table border=\"1\" class=\"dataframe\">\n",
       "  <thead>\n",
       "    <tr style=\"text-align: right;\">\n",
       "      <th></th>\n",
       "      <th>Gender</th>\n",
       "      <th>Age</th>\n",
       "      <th>Salary</th>\n",
       "      <th>Purchased</th>\n",
       "    </tr>\n",
       "  </thead>\n",
       "  <tbody>\n",
       "    <tr>\n",
       "      <th>0</th>\n",
       "      <td>Male</td>\n",
       "      <td>19</td>\n",
       "      <td>19000</td>\n",
       "      <td>0</td>\n",
       "    </tr>\n",
       "    <tr>\n",
       "      <th>1</th>\n",
       "      <td>Male</td>\n",
       "      <td>35</td>\n",
       "      <td>20000</td>\n",
       "      <td>0</td>\n",
       "    </tr>\n",
       "    <tr>\n",
       "      <th>2</th>\n",
       "      <td>Female</td>\n",
       "      <td>26</td>\n",
       "      <td>43000</td>\n",
       "      <td>0</td>\n",
       "    </tr>\n",
       "    <tr>\n",
       "      <th>3</th>\n",
       "      <td>Female</td>\n",
       "      <td>27</td>\n",
       "      <td>57000</td>\n",
       "      <td>0</td>\n",
       "    </tr>\n",
       "    <tr>\n",
       "      <th>4</th>\n",
       "      <td>Male</td>\n",
       "      <td>19</td>\n",
       "      <td>76000</td>\n",
       "      <td>0</td>\n",
       "    </tr>\n",
       "  </tbody>\n",
       "</table>\n",
       "</div>"
      ],
      "text/plain": [
       "   Gender  Age  Salary  Purchased\n",
       "0    Male   19   19000          0\n",
       "1    Male   35   20000          0\n",
       "2  Female   26   43000          0\n",
       "3  Female   27   57000          0\n",
       "4    Male   19   76000          0"
      ]
     },
     "execution_count": 10,
     "metadata": {},
     "output_type": "execute_result"
    }
   ],
   "source": [
    "df.head()"
   ]
  },
  {
   "cell_type": "markdown",
   "id": "2f7d858a",
   "metadata": {},
   "source": [
    "### Handling Categorical variable"
   ]
  },
  {
   "cell_type": "code",
   "execution_count": 16,
   "id": "9d3a52d2",
   "metadata": {},
   "outputs": [],
   "source": [
    "gender = pd.get_dummies(df['Gender'],drop_first=True) # one hot encoding "
   ]
  },
  {
   "cell_type": "code",
   "execution_count": 17,
   "id": "c01bbfad",
   "metadata": {},
   "outputs": [
    {
     "data": {
      "text/html": [
       "<div>\n",
       "<style scoped>\n",
       "    .dataframe tbody tr th:only-of-type {\n",
       "        vertical-align: middle;\n",
       "    }\n",
       "\n",
       "    .dataframe tbody tr th {\n",
       "        vertical-align: top;\n",
       "    }\n",
       "\n",
       "    .dataframe thead th {\n",
       "        text-align: right;\n",
       "    }\n",
       "</style>\n",
       "<table border=\"1\" class=\"dataframe\">\n",
       "  <thead>\n",
       "    <tr style=\"text-align: right;\">\n",
       "      <th></th>\n",
       "      <th>Male</th>\n",
       "    </tr>\n",
       "  </thead>\n",
       "  <tbody>\n",
       "    <tr>\n",
       "      <th>0</th>\n",
       "      <td>True</td>\n",
       "    </tr>\n",
       "    <tr>\n",
       "      <th>1</th>\n",
       "      <td>True</td>\n",
       "    </tr>\n",
       "    <tr>\n",
       "      <th>2</th>\n",
       "      <td>False</td>\n",
       "    </tr>\n",
       "    <tr>\n",
       "      <th>3</th>\n",
       "      <td>False</td>\n",
       "    </tr>\n",
       "    <tr>\n",
       "      <th>4</th>\n",
       "      <td>True</td>\n",
       "    </tr>\n",
       "  </tbody>\n",
       "</table>\n",
       "</div>"
      ],
      "text/plain": [
       "    Male\n",
       "0   True\n",
       "1   True\n",
       "2  False\n",
       "3  False\n",
       "4   True"
      ]
     },
     "execution_count": 17,
     "metadata": {},
     "output_type": "execute_result"
    }
   ],
   "source": [
    "gender.head()"
   ]
  },
  {
   "cell_type": "markdown",
   "id": "ae8bf26e",
   "metadata": {},
   "source": [
    "### Merging the Dataset"
   ]
  },
  {
   "cell_type": "code",
   "execution_count": 18,
   "id": "19bebbeb",
   "metadata": {},
   "outputs": [],
   "source": [
    "df = pd.concat([df,gender],axis=1)"
   ]
  },
  {
   "cell_type": "code",
   "execution_count": 19,
   "id": "a819713f",
   "metadata": {},
   "outputs": [
    {
     "data": {
      "text/html": [
       "<div>\n",
       "<style scoped>\n",
       "    .dataframe tbody tr th:only-of-type {\n",
       "        vertical-align: middle;\n",
       "    }\n",
       "\n",
       "    .dataframe tbody tr th {\n",
       "        vertical-align: top;\n",
       "    }\n",
       "\n",
       "    .dataframe thead th {\n",
       "        text-align: right;\n",
       "    }\n",
       "</style>\n",
       "<table border=\"1\" class=\"dataframe\">\n",
       "  <thead>\n",
       "    <tr style=\"text-align: right;\">\n",
       "      <th></th>\n",
       "      <th>Gender</th>\n",
       "      <th>Age</th>\n",
       "      <th>Salary</th>\n",
       "      <th>Purchased</th>\n",
       "      <th>Male</th>\n",
       "    </tr>\n",
       "  </thead>\n",
       "  <tbody>\n",
       "    <tr>\n",
       "      <th>0</th>\n",
       "      <td>Male</td>\n",
       "      <td>19</td>\n",
       "      <td>19000</td>\n",
       "      <td>0</td>\n",
       "      <td>True</td>\n",
       "    </tr>\n",
       "    <tr>\n",
       "      <th>1</th>\n",
       "      <td>Male</td>\n",
       "      <td>35</td>\n",
       "      <td>20000</td>\n",
       "      <td>0</td>\n",
       "      <td>True</td>\n",
       "    </tr>\n",
       "    <tr>\n",
       "      <th>2</th>\n",
       "      <td>Female</td>\n",
       "      <td>26</td>\n",
       "      <td>43000</td>\n",
       "      <td>0</td>\n",
       "      <td>False</td>\n",
       "    </tr>\n",
       "    <tr>\n",
       "      <th>3</th>\n",
       "      <td>Female</td>\n",
       "      <td>27</td>\n",
       "      <td>57000</td>\n",
       "      <td>0</td>\n",
       "      <td>False</td>\n",
       "    </tr>\n",
       "    <tr>\n",
       "      <th>4</th>\n",
       "      <td>Male</td>\n",
       "      <td>19</td>\n",
       "      <td>76000</td>\n",
       "      <td>0</td>\n",
       "      <td>True</td>\n",
       "    </tr>\n",
       "  </tbody>\n",
       "</table>\n",
       "</div>"
      ],
      "text/plain": [
       "   Gender  Age  Salary  Purchased   Male\n",
       "0    Male   19   19000          0   True\n",
       "1    Male   35   20000          0   True\n",
       "2  Female   26   43000          0  False\n",
       "3  Female   27   57000          0  False\n",
       "4    Male   19   76000          0   True"
      ]
     },
     "execution_count": 19,
     "metadata": {},
     "output_type": "execute_result"
    }
   ],
   "source": [
    "df.head()"
   ]
  },
  {
   "cell_type": "markdown",
   "id": "5f8b7147",
   "metadata": {},
   "source": [
    "### Drop the gender categorical Column"
   ]
  },
  {
   "cell_type": "code",
   "execution_count": 20,
   "id": "76275189",
   "metadata": {},
   "outputs": [],
   "source": [
    "df.drop('Gender',axis=1,inplace=True)"
   ]
  },
  {
   "cell_type": "code",
   "execution_count": 21,
   "id": "22c7d96b",
   "metadata": {},
   "outputs": [
    {
     "data": {
      "text/html": [
       "<div>\n",
       "<style scoped>\n",
       "    .dataframe tbody tr th:only-of-type {\n",
       "        vertical-align: middle;\n",
       "    }\n",
       "\n",
       "    .dataframe tbody tr th {\n",
       "        vertical-align: top;\n",
       "    }\n",
       "\n",
       "    .dataframe thead th {\n",
       "        text-align: right;\n",
       "    }\n",
       "</style>\n",
       "<table border=\"1\" class=\"dataframe\">\n",
       "  <thead>\n",
       "    <tr style=\"text-align: right;\">\n",
       "      <th></th>\n",
       "      <th>Age</th>\n",
       "      <th>Salary</th>\n",
       "      <th>Purchased</th>\n",
       "      <th>Gender</th>\n",
       "    </tr>\n",
       "  </thead>\n",
       "  <tbody>\n",
       "    <tr>\n",
       "      <th>0</th>\n",
       "      <td>19</td>\n",
       "      <td>19000</td>\n",
       "      <td>0</td>\n",
       "      <td>True</td>\n",
       "    </tr>\n",
       "    <tr>\n",
       "      <th>1</th>\n",
       "      <td>35</td>\n",
       "      <td>20000</td>\n",
       "      <td>0</td>\n",
       "      <td>True</td>\n",
       "    </tr>\n",
       "    <tr>\n",
       "      <th>2</th>\n",
       "      <td>26</td>\n",
       "      <td>43000</td>\n",
       "      <td>0</td>\n",
       "      <td>False</td>\n",
       "    </tr>\n",
       "    <tr>\n",
       "      <th>3</th>\n",
       "      <td>27</td>\n",
       "      <td>57000</td>\n",
       "      <td>0</td>\n",
       "      <td>False</td>\n",
       "    </tr>\n",
       "    <tr>\n",
       "      <th>4</th>\n",
       "      <td>19</td>\n",
       "      <td>76000</td>\n",
       "      <td>0</td>\n",
       "      <td>True</td>\n",
       "    </tr>\n",
       "  </tbody>\n",
       "</table>\n",
       "</div>"
      ],
      "text/plain": [
       "   Age  Salary  Purchased  Gender\n",
       "0   19   19000          0    True\n",
       "1   35   20000          0    True\n",
       "2   26   43000          0   False\n",
       "3   27   57000          0   False\n",
       "4   19   76000          0    True"
      ]
     },
     "execution_count": 21,
     "metadata": {},
     "output_type": "execute_result"
    }
   ],
   "source": [
    "df.rename(columns={'Male':'Gender'},inplace=True)\n",
    "df.head()"
   ]
  },
  {
   "cell_type": "markdown",
   "id": "6dd5ec65",
   "metadata": {},
   "source": [
    "### Reordering the Columns"
   ]
  },
  {
   "cell_type": "code",
   "execution_count": 23,
   "id": "18dee8d5",
   "metadata": {},
   "outputs": [
    {
     "data": {
      "text/html": [
       "<div>\n",
       "<style scoped>\n",
       "    .dataframe tbody tr th:only-of-type {\n",
       "        vertical-align: middle;\n",
       "    }\n",
       "\n",
       "    .dataframe tbody tr th {\n",
       "        vertical-align: top;\n",
       "    }\n",
       "\n",
       "    .dataframe thead th {\n",
       "        text-align: right;\n",
       "    }\n",
       "</style>\n",
       "<table border=\"1\" class=\"dataframe\">\n",
       "  <thead>\n",
       "    <tr style=\"text-align: right;\">\n",
       "      <th></th>\n",
       "      <th>Gender</th>\n",
       "      <th>Age</th>\n",
       "      <th>Salary</th>\n",
       "      <th>Purchased</th>\n",
       "    </tr>\n",
       "  </thead>\n",
       "  <tbody>\n",
       "    <tr>\n",
       "      <th>0</th>\n",
       "      <td>True</td>\n",
       "      <td>19</td>\n",
       "      <td>19000</td>\n",
       "      <td>0</td>\n",
       "    </tr>\n",
       "    <tr>\n",
       "      <th>1</th>\n",
       "      <td>True</td>\n",
       "      <td>35</td>\n",
       "      <td>20000</td>\n",
       "      <td>0</td>\n",
       "    </tr>\n",
       "    <tr>\n",
       "      <th>2</th>\n",
       "      <td>False</td>\n",
       "      <td>26</td>\n",
       "      <td>43000</td>\n",
       "      <td>0</td>\n",
       "    </tr>\n",
       "    <tr>\n",
       "      <th>3</th>\n",
       "      <td>False</td>\n",
       "      <td>27</td>\n",
       "      <td>57000</td>\n",
       "      <td>0</td>\n",
       "    </tr>\n",
       "    <tr>\n",
       "      <th>4</th>\n",
       "      <td>True</td>\n",
       "      <td>19</td>\n",
       "      <td>76000</td>\n",
       "      <td>0</td>\n",
       "    </tr>\n",
       "    <tr>\n",
       "      <th>...</th>\n",
       "      <td>...</td>\n",
       "      <td>...</td>\n",
       "      <td>...</td>\n",
       "      <td>...</td>\n",
       "    </tr>\n",
       "    <tr>\n",
       "      <th>395</th>\n",
       "      <td>False</td>\n",
       "      <td>46</td>\n",
       "      <td>41000</td>\n",
       "      <td>1</td>\n",
       "    </tr>\n",
       "    <tr>\n",
       "      <th>396</th>\n",
       "      <td>True</td>\n",
       "      <td>51</td>\n",
       "      <td>23000</td>\n",
       "      <td>1</td>\n",
       "    </tr>\n",
       "    <tr>\n",
       "      <th>397</th>\n",
       "      <td>False</td>\n",
       "      <td>50</td>\n",
       "      <td>20000</td>\n",
       "      <td>1</td>\n",
       "    </tr>\n",
       "    <tr>\n",
       "      <th>398</th>\n",
       "      <td>True</td>\n",
       "      <td>36</td>\n",
       "      <td>33000</td>\n",
       "      <td>0</td>\n",
       "    </tr>\n",
       "    <tr>\n",
       "      <th>399</th>\n",
       "      <td>False</td>\n",
       "      <td>49</td>\n",
       "      <td>36000</td>\n",
       "      <td>1</td>\n",
       "    </tr>\n",
       "  </tbody>\n",
       "</table>\n",
       "<p>400 rows × 4 columns</p>\n",
       "</div>"
      ],
      "text/plain": [
       "     Gender  Age  Salary  Purchased\n",
       "0      True   19   19000          0\n",
       "1      True   35   20000          0\n",
       "2     False   26   43000          0\n",
       "3     False   27   57000          0\n",
       "4      True   19   76000          0\n",
       "..      ...  ...     ...        ...\n",
       "395   False   46   41000          1\n",
       "396    True   51   23000          1\n",
       "397   False   50   20000          1\n",
       "398    True   36   33000          0\n",
       "399   False   49   36000          1\n",
       "\n",
       "[400 rows x 4 columns]"
      ]
     },
     "execution_count": 23,
     "metadata": {},
     "output_type": "execute_result"
    }
   ],
   "source": [
    "new_order = ['Gender','Age','Salary','Purchased']\n",
    "df = df[new_order]\n",
    "df "
   ]
  },
  {
   "cell_type": "markdown",
   "id": "ee6a56f1",
   "metadata": {},
   "source": [
    "### Dependent and Independent variable"
   ]
  },
  {
   "cell_type": "code",
   "execution_count": 24,
   "id": "8194f86e",
   "metadata": {},
   "outputs": [],
   "source": [
    "# independent variables x=df[['Gender','Age','Salary']]\n",
    "# dependetn variables  y=df[['Purchased']]\n",
    "\n",
    "x = df.iloc[:,0:3].values # independent variables\n",
    "y = df.iloc[:,3].values # dependent variable or the output"
   ]
  },
  {
   "cell_type": "code",
   "execution_count": 25,
   "id": "537ff67a",
   "metadata": {},
   "outputs": [
    {
     "data": {
      "text/plain": [
       "(400, 3)"
      ]
     },
     "execution_count": 25,
     "metadata": {},
     "output_type": "execute_result"
    }
   ],
   "source": [
    "x.shape"
   ]
  },
  {
   "cell_type": "code",
   "execution_count": 26,
   "id": "400fac23",
   "metadata": {},
   "outputs": [
    {
     "data": {
      "text/plain": [
       "(400,)"
      ]
     },
     "execution_count": 26,
     "metadata": {},
     "output_type": "execute_result"
    }
   ],
   "source": [
    "y.shape"
   ]
  },
  {
   "cell_type": "code",
   "execution_count": 35,
   "id": "d08c0f43-9e2d-4241-851b-3f5fb7330488",
   "metadata": {},
   "outputs": [
    {
     "data": {
      "text/html": [
       "<div>\n",
       "<style scoped>\n",
       "    .dataframe tbody tr th:only-of-type {\n",
       "        vertical-align: middle;\n",
       "    }\n",
       "\n",
       "    .dataframe tbody tr th {\n",
       "        vertical-align: top;\n",
       "    }\n",
       "\n",
       "    .dataframe thead th {\n",
       "        text-align: right;\n",
       "    }\n",
       "</style>\n",
       "<table border=\"1\" class=\"dataframe\">\n",
       "  <thead>\n",
       "    <tr style=\"text-align: right;\">\n",
       "      <th></th>\n",
       "      <th>Age</th>\n",
       "      <th>Salary</th>\n",
       "      <th>Purchased</th>\n",
       "    </tr>\n",
       "  </thead>\n",
       "  <tbody>\n",
       "    <tr>\n",
       "      <th>count</th>\n",
       "      <td>400.000000</td>\n",
       "      <td>400.000000</td>\n",
       "      <td>400.000000</td>\n",
       "    </tr>\n",
       "    <tr>\n",
       "      <th>mean</th>\n",
       "      <td>37.655000</td>\n",
       "      <td>69742.500000</td>\n",
       "      <td>0.357500</td>\n",
       "    </tr>\n",
       "    <tr>\n",
       "      <th>std</th>\n",
       "      <td>10.482877</td>\n",
       "      <td>34096.960282</td>\n",
       "      <td>0.479864</td>\n",
       "    </tr>\n",
       "    <tr>\n",
       "      <th>min</th>\n",
       "      <td>18.000000</td>\n",
       "      <td>15000.000000</td>\n",
       "      <td>0.000000</td>\n",
       "    </tr>\n",
       "    <tr>\n",
       "      <th>25%</th>\n",
       "      <td>29.750000</td>\n",
       "      <td>43000.000000</td>\n",
       "      <td>0.000000</td>\n",
       "    </tr>\n",
       "    <tr>\n",
       "      <th>50%</th>\n",
       "      <td>37.000000</td>\n",
       "      <td>70000.000000</td>\n",
       "      <td>0.000000</td>\n",
       "    </tr>\n",
       "    <tr>\n",
       "      <th>75%</th>\n",
       "      <td>46.000000</td>\n",
       "      <td>88000.000000</td>\n",
       "      <td>1.000000</td>\n",
       "    </tr>\n",
       "    <tr>\n",
       "      <th>max</th>\n",
       "      <td>60.000000</td>\n",
       "      <td>150000.000000</td>\n",
       "      <td>1.000000</td>\n",
       "    </tr>\n",
       "  </tbody>\n",
       "</table>\n",
       "</div>"
      ],
      "text/plain": [
       "              Age         Salary   Purchased\n",
       "count  400.000000     400.000000  400.000000\n",
       "mean    37.655000   69742.500000    0.357500\n",
       "std     10.482877   34096.960282    0.479864\n",
       "min     18.000000   15000.000000    0.000000\n",
       "25%     29.750000   43000.000000    0.000000\n",
       "50%     37.000000   70000.000000    0.000000\n",
       "75%     46.000000   88000.000000    1.000000\n",
       "max     60.000000  150000.000000    1.000000"
      ]
     },
     "execution_count": 35,
     "metadata": {},
     "output_type": "execute_result"
    }
   ],
   "source": [
    "df.describe()"
   ]
  },
  {
   "cell_type": "markdown",
   "id": "5803694f",
   "metadata": {},
   "source": [
    "### Splitting the Dataset"
   ]
  },
  {
   "cell_type": "code",
   "execution_count": 27,
   "id": "3de384ce",
   "metadata": {},
   "outputs": [],
   "source": [
    "from sklearn.model_selection import train_test_split\n",
    "x_train,x_test,y_train,y_test = train_test_split(x,y,train_size=0.75,random_state=2)"
   ]
  },
  {
   "cell_type": "code",
   "execution_count": 28,
   "id": "dbf262c9",
   "metadata": {},
   "outputs": [
    {
     "data": {
      "text/plain": [
       "(300, 3)"
      ]
     },
     "execution_count": 28,
     "metadata": {},
     "output_type": "execute_result"
    }
   ],
   "source": [
    "x_train.shape"
   ]
  },
  {
   "cell_type": "code",
   "execution_count": 29,
   "id": "9a800988",
   "metadata": {},
   "outputs": [
    {
     "data": {
      "text/plain": [
       "(100, 3)"
      ]
     },
     "execution_count": 29,
     "metadata": {},
     "output_type": "execute_result"
    }
   ],
   "source": [
    "x_test.shape"
   ]
  },
  {
   "cell_type": "code",
   "execution_count": 30,
   "id": "33bc4b32",
   "metadata": {},
   "outputs": [
    {
     "data": {
      "text/plain": [
       "(300,)"
      ]
     },
     "execution_count": 30,
     "metadata": {},
     "output_type": "execute_result"
    }
   ],
   "source": [
    "y_train.shape"
   ]
  },
  {
   "cell_type": "code",
   "execution_count": 31,
   "id": "eaa54626",
   "metadata": {},
   "outputs": [
    {
     "data": {
      "text/plain": [
       "(100,)"
      ]
     },
     "execution_count": 31,
     "metadata": {},
     "output_type": "execute_result"
    }
   ],
   "source": [
    "y_test.shape"
   ]
  },
  {
   "cell_type": "markdown",
   "id": "b7197d09",
   "metadata": {},
   "source": [
    "### Scalling Dataset"
   ]
  },
  {
   "cell_type": "code",
   "execution_count": 32,
   "id": "30702428",
   "metadata": {},
   "outputs": [],
   "source": [
    "from sklearn.preprocessing import StandardScaler\n",
    "st = StandardScaler()\n",
    "x_train = st.fit_transform(x_train)\n",
    "x_test = st.fit_transform(x_test)"
   ]
  },
  {
   "cell_type": "code",
   "execution_count": 33,
   "id": "0a1135ec",
   "metadata": {},
   "outputs": [
    {
     "data": {
      "text/plain": [
       "(300, 3)"
      ]
     },
     "execution_count": 33,
     "metadata": {},
     "output_type": "execute_result"
    }
   ],
   "source": [
    "x_train.shape"
   ]
  },
  {
   "cell_type": "code",
   "execution_count": 34,
   "id": "b4284901-efbc-48ba-8ebf-2fb9f909e191",
   "metadata": {},
   "outputs": [
    {
     "data": {
      "text/plain": [
       "array([[ 1.040833  ,  0.03172569,  0.06201266],\n",
       "       [ 1.040833  , -0.06539376, -0.50084108],\n",
       "       [ 1.040833  , -0.64811043, -1.50805304],\n",
       "       [-0.96076892,  0.03172569,  0.32862759],\n",
       "       [-0.96076892,  0.32308402,  0.09163654],\n",
       "       [ 1.040833  , -0.45387154, -1.12294258],\n",
       "       [ 1.040833  , -0.74522987, -1.53767692],\n",
       "       [-0.96076892, -0.25963265, -0.64896049],\n",
       "       [ 1.040833  , -1.13370765,  0.50637087],\n",
       "       [ 1.040833  , -0.06539376,  2.22455597],\n",
       "       [ 1.040833  ,  0.03172569,  0.06201266],\n",
       "       [ 1.040833  , -1.13370765, -1.5673008 ],\n",
       "       [ 1.040833  ,  1.10003958,  0.56561863],\n",
       "       [ 1.040833  , -0.25963265, -1.24143811],\n",
       "       [-0.96076892,  1.39139791, -0.91557542],\n",
       "       [-0.96076892, -1.42506599, -1.21181423],\n",
       "       [-0.96076892, -0.93946876, -0.9451993 ],\n",
       "       [-0.96076892,  1.97411458, -0.64896049],\n",
       "       [-0.96076892,  0.90580069, -0.56008884],\n",
       "       [-0.96076892, -1.13370765,  0.32862759],\n",
       "       [ 1.040833  ,  0.03172569, -0.23422615],\n",
       "       [-0.96076892,  0.80868124, -1.38955751],\n",
       "       [-0.96076892, -0.25963265, -0.35272168],\n",
       "       [-0.96076892,  0.90580069,  1.30621566],\n",
       "       [-0.96076892,  0.32308402, -0.17497839],\n",
       "       [ 1.040833  , -0.25963265, -0.56008884],\n",
       "       [ 1.040833  , -0.25963265, -1.38955751],\n",
       "       [-0.96076892,  1.48851736, -1.03407094],\n",
       "       [ 1.040833  , -0.06539376,  0.1508843 ],\n",
       "       [-0.96076892, -0.84234932, -0.64896049],\n",
       "       [ 1.040833  , -0.06539376,  0.03238878],\n",
       "       [ 1.040833  , -0.25963265,  0.12126042],\n",
       "       [ 1.040833  ,  0.22596457, -0.29347391],\n",
       "       [ 1.040833  , -0.25963265,  0.29900371],\n",
       "       [ 1.040833  ,  0.12884513,  0.06201266],\n",
       "       [ 1.040833  ,  1.97411458,  2.22455597],\n",
       "       [ 1.040833  , -1.03658821, -1.44880527],\n",
       "       [-0.96076892,  0.32308402,  0.32862759],\n",
       "       [-0.96076892,  2.07123403, -1.18219034],\n",
       "       [-0.96076892, -1.13370765, -0.50084108],\n",
       "       [ 1.040833  ,  0.22596457,  0.18050818],\n",
       "       [ 1.040833  , -0.25963265, -0.91557542],\n",
       "       [-0.96076892, -0.64811043,  0.06201266],\n",
       "       [-0.96076892,  0.22596457,  0.09163654],\n",
       "       [ 1.040833  ,  0.42020346, -0.11573063],\n",
       "       [ 1.040833  , -1.13370765, -1.0933187 ],\n",
       "       [-0.96076892, -0.06539376,  2.28380373],\n",
       "       [ 1.040833  ,  1.10003958, -0.11573063],\n",
       "       [ 1.040833  ,  0.90580069,  1.06922461],\n",
       "       [ 1.040833  , -0.06539376,  0.29900371],\n",
       "       [ 1.040833  , -0.55099098, -1.50805304],\n",
       "       [-0.96076892, -1.13370765, -1.00444706],\n",
       "       [-0.96076892, -0.74522987,  1.3950873 ],\n",
       "       [ 1.040833  ,  1.10003958,  0.59524252],\n",
       "       [-0.96076892,  1.5856368 , -1.27106199],\n",
       "       [-0.96076892,  0.7115618 , -1.38955751],\n",
       "       [-0.96076892, -0.64811043, -1.03407094],\n",
       "       [-0.96076892,  1.19715902,  0.56561863],\n",
       "       [ 1.040833  , -0.25963265, -1.44880527],\n",
       "       [ 1.040833  , -1.61930488,  0.56561863],\n",
       "       [-0.96076892, -1.03658821, -1.12294258],\n",
       "       [-0.96076892, -0.06539376,  0.06201266],\n",
       "       [-0.96076892,  0.32308402,  0.09163654],\n",
       "       [ 1.040833  ,  0.90580069, -1.35993363],\n",
       "       [-0.96076892, -1.03658821, -0.3230978 ],\n",
       "       [ 1.040833  , -1.81354377,  0.21013206],\n",
       "       [-0.96076892, -1.81354377, -1.41918139],\n",
       "       [-0.96076892,  0.7115618 ,  1.83944552],\n",
       "       [-0.96076892, -0.06539376,  0.32862759],\n",
       "       [ 1.040833  , -1.61930488,  0.09163654],\n",
       "       [-0.96076892, -0.64811043,  1.45433506],\n",
       "       [ 1.040833  , -0.25963265, -0.23422615],\n",
       "       [ 1.040833  , -0.35675209,  1.36546342],\n",
       "       [-0.96076892,  0.51732291,  1.27659178],\n",
       "       [ 1.040833  , -0.64811043,  0.21013206],\n",
       "       [-0.96076892, -1.52218543, -0.41196944],\n",
       "       [-0.96076892, -1.03658821,  0.44712311],\n",
       "       [ 1.040833  ,  0.80868124,  0.29900371],\n",
       "       [-0.96076892,  1.97411458, -0.91557542],\n",
       "       [ 1.040833  ,  0.80868124, -0.29347391],\n",
       "       [ 1.040833  ,  0.22596457,  0.26937982],\n",
       "       [ 1.040833  , -1.71642432, -0.58971272],\n",
       "       [ 1.040833  , -0.25963265,  0.18050818],\n",
       "       [-0.96076892, -1.32794654, -1.24143811],\n",
       "       [ 1.040833  , -0.25963265, -0.41196944],\n",
       "       [-0.96076892,  0.12884513,  0.12126042],\n",
       "       [-0.96076892, -0.93946876,  0.47674699],\n",
       "       [-0.96076892,  2.07123403,  0.41749923],\n",
       "       [ 1.040833  , -1.91066321,  0.38787535],\n",
       "       [-0.96076892,  2.07123403, -0.79707989],\n",
       "       [-0.96076892,  2.16835347,  1.15809625],\n",
       "       [ 1.040833  ,  0.80868124, -1.21181423],\n",
       "       [ 1.040833  ,  0.42020346, -0.44159332],\n",
       "       [ 1.040833  ,  0.03172569, -0.23422615],\n",
       "       [-0.96076892,  1.48851736,  0.38787535],\n",
       "       [-0.96076892, -0.1625132 , -0.56008884],\n",
       "       [ 1.040833  ,  0.22596457, -0.23422615],\n",
       "       [-0.96076892, -0.45387154,  2.37267538],\n",
       "       [ 1.040833  ,  0.12884513,  0.23975594],\n",
       "       [ 1.040833  ,  0.22596457, -0.64896049],\n",
       "       [ 1.040833  ,  1.00292013, -1.06369482],\n",
       "       [-0.96076892, -0.1625132 ,  0.18050818],\n",
       "       [-0.96076892, -0.06539376,  0.32862759],\n",
       "       [-0.96076892,  0.42020346, -0.4712172 ],\n",
       "       [-0.96076892, -0.35675209, -1.30068587],\n",
       "       [ 1.040833  ,  0.90580069, -0.76745601],\n",
       "       [-0.96076892, -0.93946876,  0.44712311],\n",
       "       [ 1.040833  , -0.06539376, -0.41196944],\n",
       "       [-0.96076892, -0.93946876, -0.41196944],\n",
       "       [ 1.040833  , -1.81354377,  0.47674699],\n",
       "       [-0.96076892, -0.84234932, -1.21181423],\n",
       "       [ 1.040833  , -0.93946876, -0.29347391],\n",
       "       [-0.96076892,  1.00292013,  0.80260968],\n",
       "       [-0.96076892, -1.61930488, -0.02685899],\n",
       "       [ 1.040833  , -1.03658821, -0.3230978 ],\n",
       "       [ 1.040833  ,  0.03172569, -0.53046496],\n",
       "       [ 1.040833  , -0.64811043, -0.3230978 ],\n",
       "       [-0.96076892, -1.13370765, -1.53767692],\n",
       "       [-0.96076892,  1.97411458, -1.35993363],\n",
       "       [-0.96076892, -0.64811043, -1.59692468],\n",
       "       [ 1.040833  ,  0.22596457, -0.35272168],\n",
       "       [-0.96076892,  0.90580069,  2.22455597],\n",
       "       [-0.96076892,  1.19715902, -0.97482318],\n",
       "       [ 1.040833  , -0.1625132 , -0.50084108],\n",
       "       [-0.96076892,  1.68275625,  1.80982164],\n",
       "       [ 1.040833  ,  1.10003958, -1.21181423],\n",
       "       [-0.96076892,  0.03172569,  1.30621566],\n",
       "       [-0.96076892, -0.45387154, -0.26385003],\n",
       "       [ 1.040833  ,  1.68275625, -0.88595153],\n",
       "       [ 1.040833  ,  0.32308402,  0.53599475],\n",
       "       [-0.96076892, -1.03658821, -1.53767692],\n",
       "       [-0.96076892,  1.5856368 ,  1.15809625],\n",
       "       [ 1.040833  , -1.52218543,  0.35825147],\n",
       "       [-0.96076892,  0.03172569, -0.11573063],\n",
       "       [ 1.040833  ,  0.12884513, -0.79707989],\n",
       "       [ 1.040833  ,  0.22596457,  1.12847237],\n",
       "       [ 1.040833  ,  0.42020346, -0.14535451],\n",
       "       [-0.96076892, -0.45387154,  0.0027649 ],\n",
       "       [-0.96076892,  1.10003958,  2.13568433],\n",
       "       [-0.96076892, -0.25963265, -0.11573063],\n",
       "       [ 1.040833  , -0.74522987, -0.58971272],\n",
       "       [-0.96076892,  1.19715902, -1.44880527],\n",
       "       [ 1.040833  , -1.42506599, -1.44880527],\n",
       "       [ 1.040833  ,  1.87699514, -0.26385003],\n",
       "       [ 1.040833  ,  1.87699514,  0.1508843 ],\n",
       "       [-0.96076892,  0.42020346,  0.18050818],\n",
       "       [ 1.040833  ,  1.29427847, -1.35993363],\n",
       "       [-0.96076892, -0.45387154, -1.21181423],\n",
       "       [ 1.040833  , -0.74522987,  1.95794104],\n",
       "       [ 1.040833  , -0.25963265,  1.15809625],\n",
       "       [-0.96076892,  0.03172569, -0.56008884],\n",
       "       [ 1.040833  ,  0.22596457, -0.11573063],\n",
       "       [-0.96076892, -0.55099098,  1.95794104],\n",
       "       [ 1.040833  , -0.93946876,  0.29900371],\n",
       "       [-0.96076892, -1.91066321,  0.50637087],\n",
       "       [-0.96076892, -1.32794654,  0.59524252],\n",
       "       [-0.96076892,  0.22596457,  0.18050818],\n",
       "       [-0.96076892,  1.39139791, -1.41918139],\n",
       "       [-0.96076892, -0.06539376,  0.71373804],\n",
       "       [ 1.040833  ,  0.12884513,  1.92831716],\n",
       "       [-0.96076892, -1.71642432, -0.97482318],\n",
       "       [ 1.040833  ,  0.22596457, -0.35272168],\n",
       "       [ 1.040833  , -1.81354377, -1.30068587],\n",
       "       [ 1.040833  ,  0.80868124,  0.56561863],\n",
       "       [ 1.040833  , -0.1625132 ,  1.45433506],\n",
       "       [ 1.040833  , -1.03658821,  0.59524252],\n",
       "       [ 1.040833  , -1.2308271 , -1.06369482],\n",
       "       [-0.96076892,  1.39139791,  2.04681268],\n",
       "       [-0.96076892,  0.80868124, -1.0933187 ],\n",
       "       [-0.96076892,  0.80868124,  0.1508843 ],\n",
       "       [-0.96076892, -1.81354377, -1.27106199],\n",
       "       [-0.96076892,  0.03172569,  1.27659178],\n",
       "       [-0.96076892,  0.90580069, -0.58971272],\n",
       "       [ 1.040833  ,  2.16835347,  0.41749923],\n",
       "       [ 1.040833  ,  2.16835347, -0.79707989],\n",
       "       [ 1.040833  ,  1.00292013, -1.06369482],\n",
       "       [ 1.040833  ,  0.12884513,  1.57283059],\n",
       "       [-0.96076892, -0.93946876,  0.53599475],\n",
       "       [ 1.040833  , -1.2308271 ,  0.29900371],\n",
       "       [-0.96076892,  0.42020346,  0.6248664 ],\n",
       "       [-0.96076892,  0.12884513,  0.18050818],\n",
       "       [ 1.040833  ,  0.22596457,  0.06201266],\n",
       "       [ 1.040833  ,  2.07123403,  2.19493209],\n",
       "       [-0.96076892, -0.06539376, -0.35272168],\n",
       "       [-0.96076892, -0.25963265,  0.83223356],\n",
       "       [ 1.040833  , -1.42506599, -0.17497839],\n",
       "       [ 1.040833  ,  1.10003958,  0.1508843 ],\n",
       "       [-0.96076892,  0.32308402,  0.09163654],\n",
       "       [-0.96076892,  0.12884513,  0.06201266],\n",
       "       [-0.96076892,  1.00292013, -1.00444706],\n",
       "       [ 1.040833  , -0.55099098,  1.51358283],\n",
       "       [ 1.040833  , -1.13370765, -1.59692468],\n",
       "       [-0.96076892,  1.29427847,  2.28380373],\n",
       "       [-0.96076892, -1.42506599, -0.08610675],\n",
       "       [ 1.040833  , -1.81354377, -1.47842915],\n",
       "       [-0.96076892,  0.90580069, -1.15256646],\n",
       "       [-0.96076892,  2.16835347, -0.67858437],\n",
       "       [-0.96076892,  0.61444235, -0.88595153],\n",
       "       [ 1.040833  , -1.2308271 , -1.38955751],\n",
       "       [-0.96076892, -0.45387154, -0.82670377],\n",
       "       [ 1.040833  , -0.84234932, -0.23422615],\n",
       "       [-0.96076892,  1.48851736,  2.19493209],\n",
       "       [ 1.040833  ,  0.42020346,  1.03960073],\n",
       "       [-0.96076892,  0.03172569, -0.41196944],\n",
       "       [ 1.040833  , -1.13370765, -1.15256646],\n",
       "       [ 1.040833  , -0.74522987,  0.59524252],\n",
       "       [ 1.040833  ,  0.12884513,  1.09884849],\n",
       "       [-0.96076892, -0.55099098,  1.42471118],\n",
       "       [-0.96076892,  0.12884513,  1.92831716],\n",
       "       [-0.96076892,  0.22596457,  2.16530821],\n",
       "       [-0.96076892,  1.48851736,  1.03960073],\n",
       "       [ 1.040833  , -1.71642432,  0.1508843 ],\n",
       "       [ 1.040833  , -0.25963265, -0.4712172 ],\n",
       "       [ 1.040833  ,  0.12884513,  0.80260968],\n",
       "       [ 1.040833  ,  0.90580069, -1.30068587],\n",
       "       [-0.96076892, -0.25963265, -0.26385003],\n",
       "       [ 1.040833  ,  2.16835347, -1.03407094],\n",
       "       [-0.96076892,  0.42020346,  0.32862759],\n",
       "       [ 1.040833  , -0.1625132 ,  1.66170223],\n",
       "       [-0.96076892,  0.80868124, -0.82670377],\n",
       "       [ 1.040833  , -0.93946876,  1.60245447],\n",
       "       [-0.96076892,  0.12884513, -0.23422615],\n",
       "       [ 1.040833  , -1.2308271 ,  0.53599475],\n",
       "       [ 1.040833  ,  0.12884513, -0.79707989],\n",
       "       [-0.96076892,  1.10003958, -0.97482318],\n",
       "       [-0.96076892,  1.00292013,  1.83944552],\n",
       "       [-0.96076892, -1.42506599, -0.61933661],\n",
       "       [-0.96076892,  1.00292013, -1.18219034],\n",
       "       [ 1.040833  , -1.32794654, -0.41196944],\n",
       "       [ 1.040833  ,  0.32308402,  0.09163654],\n",
       "       [-0.96076892, -0.25963265, -0.56008884],\n",
       "       [ 1.040833  , -0.74522987,  1.12847237],\n",
       "       [-0.96076892,  1.5856368 ,  1.03960073],\n",
       "       [ 1.040833  , -1.03658821,  0.6248664 ],\n",
       "       [ 1.040833  ,  0.42020346,  0.12126042],\n",
       "       [-0.96076892, -0.93946876, -0.29347391],\n",
       "       [-0.96076892,  1.19715902, -0.73783213],\n",
       "       [ 1.040833  , -1.91066321, -0.50084108],\n",
       "       [ 1.040833  ,  1.10003958, -1.21181423],\n",
       "       [ 1.040833  ,  0.32308402,  0.29900371],\n",
       "       [ 1.040833  , -0.74522987, -1.59692468],\n",
       "       [-0.96076892, -0.25963265, -1.30068587],\n",
       "       [ 1.040833  , -0.25963265,  0.56561863],\n",
       "       [-0.96076892,  1.00292013,  1.92831716],\n",
       "       [ 1.040833  , -0.64811043, -0.08610675],\n",
       "       [-0.96076892, -0.45387154,  1.30621566],\n",
       "       [ 1.040833  ,  0.32308402, -0.50084108],\n",
       "       [-0.96076892,  1.87699514,  1.57283059],\n",
       "       [ 1.040833  ,  1.10003958,  0.50637087],\n",
       "       [-0.96076892,  2.07123403,  0.21013206],\n",
       "       [-0.96076892, -1.71642432,  0.38787535],\n",
       "       [-0.96076892, -0.1625132 , -0.17497839],\n",
       "       [-0.96076892, -0.64811043,  0.59524252],\n",
       "       [-0.96076892,  1.39139791,  1.33583954],\n",
       "       [-0.96076892,  1.10003958, -0.88595153],\n",
       "       [-0.96076892,  1.87699514, -1.06369482],\n",
       "       [ 1.040833  , -0.74522987,  0.53599475],\n",
       "       [-0.96076892, -1.32794654, -1.0933187 ],\n",
       "       [-0.96076892,  0.80868124,  0.38787535],\n",
       "       [-0.96076892, -0.84234932,  0.41749923],\n",
       "       [ 1.040833  , -0.74522987,  0.32862759],\n",
       "       [-0.96076892, -1.03658821,  2.0171888 ],\n",
       "       [ 1.040833  , -0.06539376,  0.09163654],\n",
       "       [ 1.040833  ,  1.39139791,  2.40229926],\n",
       "       [ 1.040833  , -0.06539376,  0.18050818],\n",
       "       [-0.96076892, -0.06539376,  2.0171888 ],\n",
       "       [-0.96076892, -0.74522987,  0.29900371],\n",
       "       [ 1.040833  , -1.13370765,  0.35825147],\n",
       "       [-0.96076892,  0.32308402, -0.26385003],\n",
       "       [-0.96076892,  1.00292013, -1.15256646],\n",
       "       [-0.96076892,  1.39139791,  0.6248664 ],\n",
       "       [ 1.040833  , -1.52218543, -1.50805304],\n",
       "       [-0.96076892, -0.93946876, -0.73783213],\n",
       "       [-0.96076892, -1.13370765,  0.09163654],\n",
       "       [ 1.040833  ,  0.42020346, -0.44159332],\n",
       "       [-0.96076892, -1.91066321, -0.73783213],\n",
       "       [-0.96076892,  0.42020346,  0.29900371],\n",
       "       [-0.96076892, -0.25963265,  0.23975594],\n",
       "       [-0.96076892, -0.55099098,  0.50637087],\n",
       "       [ 1.040833  , -0.35675209, -0.76745601],\n",
       "       [-0.96076892, -0.25963265,  0.06201266],\n",
       "       [ 1.040833  , -0.06539376,  0.23975594],\n",
       "       [ 1.040833  , -0.25963265,  0.18050818],\n",
       "       [-0.96076892,  0.32308402, -0.53046496],\n",
       "       [-0.96076892,  0.80868124,  0.80260968],\n",
       "       [-0.96076892,  1.00292013,  2.04681268],\n",
       "       [ 1.040833  , -0.1625132 , -0.26385003],\n",
       "       [-0.96076892, -1.03658821, -0.44159332],\n",
       "       [ 1.040833  , -0.25963265, -0.3230978 ],\n",
       "       [-0.96076892,  0.12884513, -0.29347391],\n",
       "       [-0.96076892, -0.25963265, -0.73783213],\n",
       "       [-0.96076892, -0.06539376, -1.06369482],\n",
       "       [-0.96076892, -0.25963265,  0.09163654],\n",
       "       [ 1.040833  ,  0.51732291,  1.78019776],\n",
       "       [ 1.040833  , -0.35675209,  1.27659178],\n",
       "       [ 1.040833  ,  0.80868124,  1.42471118],\n",
       "       [ 1.040833  ,  1.00292013, -0.82670377],\n",
       "       [-0.96076892, -1.71642432, -1.35993363],\n",
       "       [ 1.040833  , -0.84234932,  0.32862759],\n",
       "       [ 1.040833  , -0.84234932,  2.34305149]])"
      ]
     },
     "execution_count": 34,
     "metadata": {},
     "output_type": "execute_result"
    }
   ],
   "source": [
    "x_train"
   ]
  },
  {
   "cell_type": "code",
   "execution_count": null,
   "id": "966096e7",
   "metadata": {},
   "outputs": [],
   "source": [
    "print(x_train)"
   ]
  },
  {
   "cell_type": "markdown",
   "id": "07c6fe22",
   "metadata": {},
   "source": [
    "### Fitting Decission Tree to the training set"
   ]
  },
  {
   "cell_type": "code",
   "execution_count": 36,
   "id": "7631725c",
   "metadata": {},
   "outputs": [
    {
     "data": {
      "text/html": [
       "<style>#sk-container-id-1 {color: black;background-color: white;}#sk-container-id-1 pre{padding: 0;}#sk-container-id-1 div.sk-toggleable {background-color: white;}#sk-container-id-1 label.sk-toggleable__label {cursor: pointer;display: block;width: 100%;margin-bottom: 0;padding: 0.3em;box-sizing: border-box;text-align: center;}#sk-container-id-1 label.sk-toggleable__label-arrow:before {content: \"▸\";float: left;margin-right: 0.25em;color: #696969;}#sk-container-id-1 label.sk-toggleable__label-arrow:hover:before {color: black;}#sk-container-id-1 div.sk-estimator:hover label.sk-toggleable__label-arrow:before {color: black;}#sk-container-id-1 div.sk-toggleable__content {max-height: 0;max-width: 0;overflow: hidden;text-align: left;background-color: #f0f8ff;}#sk-container-id-1 div.sk-toggleable__content pre {margin: 0.2em;color: black;border-radius: 0.25em;background-color: #f0f8ff;}#sk-container-id-1 input.sk-toggleable__control:checked~div.sk-toggleable__content {max-height: 200px;max-width: 100%;overflow: auto;}#sk-container-id-1 input.sk-toggleable__control:checked~label.sk-toggleable__label-arrow:before {content: \"▾\";}#sk-container-id-1 div.sk-estimator input.sk-toggleable__control:checked~label.sk-toggleable__label {background-color: #d4ebff;}#sk-container-id-1 div.sk-label input.sk-toggleable__control:checked~label.sk-toggleable__label {background-color: #d4ebff;}#sk-container-id-1 input.sk-hidden--visually {border: 0;clip: rect(1px 1px 1px 1px);clip: rect(1px, 1px, 1px, 1px);height: 1px;margin: -1px;overflow: hidden;padding: 0;position: absolute;width: 1px;}#sk-container-id-1 div.sk-estimator {font-family: monospace;background-color: #f0f8ff;border: 1px dotted black;border-radius: 0.25em;box-sizing: border-box;margin-bottom: 0.5em;}#sk-container-id-1 div.sk-estimator:hover {background-color: #d4ebff;}#sk-container-id-1 div.sk-parallel-item::after {content: \"\";width: 100%;border-bottom: 1px solid gray;flex-grow: 1;}#sk-container-id-1 div.sk-label:hover label.sk-toggleable__label {background-color: #d4ebff;}#sk-container-id-1 div.sk-serial::before {content: \"\";position: absolute;border-left: 1px solid gray;box-sizing: border-box;top: 0;bottom: 0;left: 50%;z-index: 0;}#sk-container-id-1 div.sk-serial {display: flex;flex-direction: column;align-items: center;background-color: white;padding-right: 0.2em;padding-left: 0.2em;position: relative;}#sk-container-id-1 div.sk-item {position: relative;z-index: 1;}#sk-container-id-1 div.sk-parallel {display: flex;align-items: stretch;justify-content: center;background-color: white;position: relative;}#sk-container-id-1 div.sk-item::before, #sk-container-id-1 div.sk-parallel-item::before {content: \"\";position: absolute;border-left: 1px solid gray;box-sizing: border-box;top: 0;bottom: 0;left: 50%;z-index: -1;}#sk-container-id-1 div.sk-parallel-item {display: flex;flex-direction: column;z-index: 1;position: relative;background-color: white;}#sk-container-id-1 div.sk-parallel-item:first-child::after {align-self: flex-end;width: 50%;}#sk-container-id-1 div.sk-parallel-item:last-child::after {align-self: flex-start;width: 50%;}#sk-container-id-1 div.sk-parallel-item:only-child::after {width: 0;}#sk-container-id-1 div.sk-dashed-wrapped {border: 1px dashed gray;margin: 0 0.4em 0.5em 0.4em;box-sizing: border-box;padding-bottom: 0.4em;background-color: white;}#sk-container-id-1 div.sk-label label {font-family: monospace;font-weight: bold;display: inline-block;line-height: 1.2em;}#sk-container-id-1 div.sk-label-container {text-align: center;}#sk-container-id-1 div.sk-container {/* jupyter's `normalize.less` sets `[hidden] { display: none; }` but bootstrap.min.css set `[hidden] { display: none !important; }` so we also need the `!important` here to be able to override the default hidden behavior on the sphinx rendered scikit-learn.org. See: https://github.com/scikit-learn/scikit-learn/issues/21755 */display: inline-block !important;position: relative;}#sk-container-id-1 div.sk-text-repr-fallback {display: none;}</style><div id=\"sk-container-id-1\" class=\"sk-top-container\"><div class=\"sk-text-repr-fallback\"><pre>DecisionTreeClassifier(criterion=&#x27;entropy&#x27;, max_depth=12, random_state=0)</pre><b>In a Jupyter environment, please rerun this cell to show the HTML representation or trust the notebook. <br />On GitHub, the HTML representation is unable to render, please try loading this page with nbviewer.org.</b></div><div class=\"sk-container\" hidden><div class=\"sk-item\"><div class=\"sk-estimator sk-toggleable\"><input class=\"sk-toggleable__control sk-hidden--visually\" id=\"sk-estimator-id-1\" type=\"checkbox\" checked><label for=\"sk-estimator-id-1\" class=\"sk-toggleable__label sk-toggleable__label-arrow\">DecisionTreeClassifier</label><div class=\"sk-toggleable__content\"><pre>DecisionTreeClassifier(criterion=&#x27;entropy&#x27;, max_depth=12, random_state=0)</pre></div></div></div></div></div>"
      ],
      "text/plain": [
       "DecisionTreeClassifier(criterion='entropy', max_depth=12, random_state=0)"
      ]
     },
     "execution_count": 36,
     "metadata": {},
     "output_type": "execute_result"
    }
   ],
   "source": [
    "#Fitting Decision Tree classifier to the training set\n",
    "from sklearn.tree import DecisionTreeClassifier  \n",
    "# Create a DecisionTreeClassifier object with the following parameters:\n",
    "# - criterion: It defines the function to measure the quality of a split. \n",
    "#   Here, 'entropy' is used, which measures the information gain based on entropy.\n",
    "# - splitter: It specifies the strategy used to choose the split at each node. \n",
    "#   'best' means the best split is chosen based on the criterion specified.\n",
    "# - max_depth: It limits the maximum depth of the tree. \n",
    "#   This parameter helps control overfitting. Here, the maximum depth is set to 10.\n",
    "model = DecisionTreeClassifier(criterion='entropy', splitter='best', max_depth=12, random_state=0)  \n",
    "\n",
    "model.fit(x_train, y_train)  "
   ]
  },
  {
   "cell_type": "markdown",
   "id": "aca7bf92",
   "metadata": {},
   "source": [
    "### Performance of the model on Training Dataset"
   ]
  },
  {
   "cell_type": "code",
   "execution_count": 39,
   "id": "e8fd16c6",
   "metadata": {},
   "outputs": [
    {
     "data": {
      "text/plain": [
       "array([0, 0, 0, 0, 0, 0, 0, 0, 0, 1, 0, 0, 1, 0, 1, 0, 0, 1, 1, 0, 0, 0,\n",
       "       0, 1, 0, 0, 0, 1, 0, 0, 1, 0, 0, 0, 0, 1, 0, 0, 1, 0, 0, 0, 0, 0,\n",
       "       0, 0, 1, 0, 1, 1, 0, 0, 0, 1, 1, 1, 0, 1, 0, 0, 0, 0, 0, 1, 0, 0,\n",
       "       0, 1, 0, 0, 1, 0, 0, 1, 0, 0, 0, 1, 1, 0, 0, 0, 0, 0, 0, 0, 0, 0,\n",
       "       0, 0, 1, 1, 0, 0, 1, 0, 0, 1, 0, 0, 1, 0, 0, 0, 0, 0, 0, 0, 0, 0,\n",
       "       0, 0, 1, 0, 0, 0, 0, 0, 1, 0, 0, 1, 1, 0, 1, 1, 1, 0, 1, 1, 0, 1,\n",
       "       0, 0, 0, 1, 0, 0, 1, 0, 0, 1, 0, 1, 1, 0, 1, 0, 1, 0, 0, 0, 1, 0,\n",
       "       0, 0, 0, 1, 1, 1, 0, 0, 0, 1, 1, 0, 0, 1, 1, 0, 0, 0, 1, 1, 1, 1,\n",
       "       1, 0, 0, 1, 0, 0, 1, 0, 1, 0, 0, 0, 0, 1, 1, 0, 1, 0, 0, 1, 1, 0,\n",
       "       0, 0, 0, 1, 1, 0, 0, 0, 1, 0, 1, 1, 1, 0, 0, 1, 1, 0, 1, 1, 1, 1,\n",
       "       1, 0, 0, 0, 1, 1, 0, 1, 0, 0, 0, 1, 1, 0, 1, 0, 0, 0, 1, 0, 0, 0,\n",
       "       0, 1, 0, 0, 0, 1, 1, 1, 0, 0, 0, 0, 1, 1, 0, 0, 0, 0, 0, 1, 0, 1,\n",
       "       0, 1, 0, 0, 0, 1, 1, 0, 0, 0, 0, 0, 0, 0, 0, 0, 0, 0, 0, 0, 0, 1,\n",
       "       0, 0, 0, 0, 0, 0, 0, 1, 1, 1, 1, 0, 0, 1], dtype=int64)"
      ]
     },
     "execution_count": 39,
     "metadata": {},
     "output_type": "execute_result"
    }
   ],
   "source": [
    "y_pred_train = model.predict(x_train)\n",
    "y_pred_train"
   ]
  },
  {
   "cell_type": "code",
   "execution_count": 27,
   "id": "44696a54",
   "metadata": {},
   "outputs": [
    {
     "data": {
      "text/plain": [
       "(300,)"
      ]
     },
     "execution_count": 27,
     "metadata": {},
     "output_type": "execute_result"
    }
   ],
   "source": [
    "y_pred_train.shape"
   ]
  },
  {
   "cell_type": "code",
   "execution_count": 41,
   "id": "8dc1383d",
   "metadata": {},
   "outputs": [
    {
     "ename": "NameError",
     "evalue": "name 'true' is not defined",
     "output_type": "error",
     "traceback": [
      "\u001b[1;31m---------------------------------------------------------------------------\u001b[0m",
      "\u001b[1;31mNameError\u001b[0m                                 Traceback (most recent call last)",
      "Cell \u001b[1;32mIn[41], line 2\u001b[0m\n\u001b[0;32m      1\u001b[0m \u001b[38;5;28;01mfrom\u001b[39;00m \u001b[38;5;21;01msklearn\u001b[39;00m\u001b[38;5;21;01m.\u001b[39;00m\u001b[38;5;21;01mmetrics\u001b[39;00m \u001b[38;5;28;01mimport\u001b[39;00m confusion_matrix,classification_report\n\u001b[1;32m----> 2\u001b[0m cm_train \u001b[38;5;241m=\u001b[39m confusion_matrix(y_pred_train,y_train,annonate\u001b[38;5;241m=\u001b[39mtrue)\n\u001b[0;32m      3\u001b[0m \u001b[38;5;28mprint\u001b[39m(\u001b[38;5;124m\"\u001b[39m\u001b[38;5;124mConfussion matrics Result:\u001b[39m\u001b[38;5;130;01m\\n\u001b[39;00m\u001b[38;5;124m\"\u001b[39m,cm_train)\n",
      "\u001b[1;31mNameError\u001b[0m: name 'true' is not defined"
     ]
    }
   ],
   "source": [
    "from sklearn.metrics import confusion_matrix,classification_report\n",
    "cm_train = confusion_matrix(y_pred_train,y_train)\n",
    "print(\"Confussion matrics Result:\\n\",cm_train)"
   ]
  },
  {
   "cell_type": "markdown",
   "id": "227b1478",
   "metadata": {},
   "source": [
    "### Classification Report Train Data"
   ]
  },
  {
   "cell_type": "code",
   "execution_count": 42,
   "id": "29845508",
   "metadata": {},
   "outputs": [
    {
     "name": "stdout",
     "output_type": "stream",
     "text": [
      "\n",
      "Classification Report:\n",
      "              precision    recall  f1-score   support\n",
      "\n",
      "           0       1.00      1.00      1.00       197\n",
      "           1       1.00      1.00      1.00       103\n",
      "\n",
      "    accuracy                           1.00       300\n",
      "   macro avg       1.00      1.00      1.00       300\n",
      "weighted avg       1.00      1.00      1.00       300\n",
      "\n"
     ]
    }
   ],
   "source": [
    "print(\"\\nClassification Report:\")\n",
    "print(classification_report(y_pred_train, y_pred_train))"
   ]
  },
  {
   "cell_type": "markdown",
   "id": "570a42a6",
   "metadata": {},
   "source": [
    "### Prediction on Test Data"
   ]
  },
  {
   "cell_type": "code",
   "execution_count": 43,
   "id": "1070e586",
   "metadata": {},
   "outputs": [
    {
     "data": {
      "text/plain": [
       "array([0, 0, 0, 0, 1, 0, 0, 0, 0, 1, 0, 0, 0, 1, 0, 0, 0, 1, 1, 0, 0, 1,\n",
       "       0, 0, 0, 1, 1, 0, 1, 1, 0, 0, 0, 0, 1, 0, 0, 0, 0, 0, 0, 0, 0, 1,\n",
       "       0, 1, 0, 1, 0, 0, 0, 1, 0, 0, 0, 0, 0, 1, 1, 0, 0, 1, 1, 1, 0, 1,\n",
       "       1, 0, 0, 1, 0, 1, 0, 0, 1, 0, 1, 0, 1, 0, 1, 1, 0, 1, 0, 0, 1, 0,\n",
       "       1, 1, 1, 0, 0, 1, 0, 0, 0, 0, 0, 0], dtype=int64)"
      ]
     },
     "execution_count": 43,
     "metadata": {},
     "output_type": "execute_result"
    }
   ],
   "source": [
    "y_pred_test = model.predict(x_test)\n",
    "y_pred_test"
   ]
  },
  {
   "cell_type": "markdown",
   "id": "e0395f23",
   "metadata": {},
   "source": [
    "### Performance of the model on Test Dataset"
   ]
  },
  {
   "cell_type": "code",
   "execution_count": 45,
   "id": "41e730c3",
   "metadata": {},
   "outputs": [
    {
     "name": "stdout",
     "output_type": "stream",
     "text": [
      "Confussion matrics Result:\n",
      " [[55 10]\n",
      " [ 7 28]]\n"
     ]
    }
   ],
   "source": [
    "from sklearn.metrics import confusion_matrix,classification_report\n",
    "cm_test = confusion_matrix(y_pred_test,y_test)\n",
    "print(\"Confussion matrics Result:\\n\",cm_test)"
   ]
  },
  {
   "cell_type": "markdown",
   "id": "f24667d5",
   "metadata": {},
   "source": [
    "### Classification Report Test Data"
   ]
  },
  {
   "cell_type": "code",
   "execution_count": 46,
   "id": "66c8bdbe",
   "metadata": {},
   "outputs": [
    {
     "name": "stdout",
     "output_type": "stream",
     "text": [
      "\n",
      "Classification Report:\n",
      "              precision    recall  f1-score   support\n",
      "\n",
      "           0       0.85      0.89      0.87        62\n",
      "           1       0.80      0.74      0.77        38\n",
      "\n",
      "    accuracy                           0.83       100\n",
      "   macro avg       0.82      0.81      0.82       100\n",
      "weighted avg       0.83      0.83      0.83       100\n",
      "\n"
     ]
    }
   ],
   "source": [
    "print(\"\\nClassification Report:\")\n",
    "print(classification_report(y_test, y_pred_test))"
   ]
  },
  {
   "cell_type": "code",
   "execution_count": 47,
   "id": "df35a374-6c2b-4952-b15b-3d306e9c7e2b",
   "metadata": {},
   "outputs": [
    {
     "data": {
      "text/plain": [
       "<Axes: >"
      ]
     },
     "execution_count": 47,
     "metadata": {},
     "output_type": "execute_result"
    },
    {
     "data": {
      "image/png": "[encoded data removed]",
      "text/plain": [
       "<Figure size 640x480 with 2 Axes>"
      ]
     },
     "metadata": {},
     "output_type": "display_data"
    }
   ],
   "source": [
    "import matplotlib.pyplot as plt # there is some thing to plot\n",
    "%matplotlib inline\n",
    "import seaborn as sns #  EDA \n",
    "\n",
    "sns.heatmap(cm_test,annot=True)"
   ]
  },
  {
   "cell_type": "markdown",
   "id": "fcf0bdce",
   "metadata": {},
   "source": [
    "## Generating the tree"
   ]
  },
  {
   "cell_type": "code",
   "execution_count": 48,
   "id": "1f8e8b95",
   "metadata": {},
   "outputs": [
    {
     "data": {
      "text/html": [
       "<style>#sk-container-id-2 {color: black;background-color: white;}#sk-container-id-2 pre{padding: 0;}#sk-container-id-2 div.sk-toggleable {background-color: white;}#sk-container-id-2 label.sk-toggleable__label {cursor: pointer;display: block;width: 100%;margin-bottom: 0;padding: 0.3em;box-sizing: border-box;text-align: center;}#sk-container-id-2 label.sk-toggleable__label-arrow:before {content: \"▸\";float: left;margin-right: 0.25em;color: #696969;}#sk-container-id-2 label.sk-toggleable__label-arrow:hover:before {color: black;}#sk-container-id-2 div.sk-estimator:hover label.sk-toggleable__label-arrow:before {color: black;}#sk-container-id-2 div.sk-toggleable__content {max-height: 0;max-width: 0;overflow: hidden;text-align: left;background-color: #f0f8ff;}#sk-container-id-2 div.sk-toggleable__content pre {margin: 0.2em;color: black;border-radius: 0.25em;background-color: #f0f8ff;}#sk-container-id-2 input.sk-toggleable__control:checked~div.sk-toggleable__content {max-height: 200px;max-width: 100%;overflow: auto;}#sk-container-id-2 input.sk-toggleable__control:checked~label.sk-toggleable__label-arrow:before {content: \"▾\";}#sk-container-id-2 div.sk-estimator input.sk-toggleable__control:checked~label.sk-toggleable__label {background-color: #d4ebff;}#sk-container-id-2 div.sk-label input.sk-toggleable__control:checked~label.sk-toggleable__label {background-color: #d4ebff;}#sk-container-id-2 input.sk-hidden--visually {border: 0;clip: rect(1px 1px 1px 1px);clip: rect(1px, 1px, 1px, 1px);height: 1px;margin: -1px;overflow: hidden;padding: 0;position: absolute;width: 1px;}#sk-container-id-2 div.sk-estimator {font-family: monospace;background-color: #f0f8ff;border: 1px dotted black;border-radius: 0.25em;box-sizing: border-box;margin-bottom: 0.5em;}#sk-container-id-2 div.sk-estimator:hover {background-color: #d4ebff;}#sk-container-id-2 div.sk-parallel-item::after {content: \"\";width: 100%;border-bottom: 1px solid gray;flex-grow: 1;}#sk-container-id-2 div.sk-label:hover label.sk-toggleable__label {background-color: #d4ebff;}#sk-container-id-2 div.sk-serial::before {content: \"\";position: absolute;border-left: 1px solid gray;box-sizing: border-box;top: 0;bottom: 0;left: 50%;z-index: 0;}#sk-container-id-2 div.sk-serial {display: flex;flex-direction: column;align-items: center;background-color: white;padding-right: 0.2em;padding-left: 0.2em;position: relative;}#sk-container-id-2 div.sk-item {position: relative;z-index: 1;}#sk-container-id-2 div.sk-parallel {display: flex;align-items: stretch;justify-content: center;background-color: white;position: relative;}#sk-container-id-2 div.sk-item::before, #sk-container-id-2 div.sk-parallel-item::before {content: \"\";position: absolute;border-left: 1px solid gray;box-sizing: border-box;top: 0;bottom: 0;left: 50%;z-index: -1;}#sk-container-id-2 div.sk-parallel-item {display: flex;flex-direction: column;z-index: 1;position: relative;background-color: white;}#sk-container-id-2 div.sk-parallel-item:first-child::after {align-self: flex-end;width: 50%;}#sk-container-id-2 div.sk-parallel-item:last-child::after {align-self: flex-start;width: 50%;}#sk-container-id-2 div.sk-parallel-item:only-child::after {width: 0;}#sk-container-id-2 div.sk-dashed-wrapped {border: 1px dashed gray;margin: 0 0.4em 0.5em 0.4em;box-sizing: border-box;padding-bottom: 0.4em;background-color: white;}#sk-container-id-2 div.sk-label label {font-family: monospace;font-weight: bold;display: inline-block;line-height: 1.2em;}#sk-container-id-2 div.sk-label-container {text-align: center;}#sk-container-id-2 div.sk-container {/* jupyter's `normalize.less` sets `[hidden] { display: none; }` but bootstrap.min.css set `[hidden] { display: none !important; }` so we also need the `!important` here to be able to override the default hidden behavior on the sphinx rendered scikit-learn.org. See: https://github.com/scikit-learn/scikit-learn/issues/21755 */display: inline-block !important;position: relative;}#sk-container-id-2 div.sk-text-repr-fallback {display: none;}</style><div id=\"sk-container-id-2\" class=\"sk-top-container\"><div class=\"sk-text-repr-fallback\"><pre>DecisionTreeClassifier(criterion=&#x27;entropy&#x27;, max_depth=12, random_state=0)</pre><b>In a Jupyter environment, please rerun this cell to show the HTML representation or trust the notebook. <br />On GitHub, the HTML representation is unable to render, please try loading this page with nbviewer.org.</b></div><div class=\"sk-container\" hidden><div class=\"sk-item\"><div class=\"sk-estimator sk-toggleable\"><input class=\"sk-toggleable__control sk-hidden--visually\" id=\"sk-estimator-id-2\" type=\"checkbox\" checked><label for=\"sk-estimator-id-2\" class=\"sk-toggleable__label sk-toggleable__label-arrow\">DecisionTreeClassifier</label><div class=\"sk-toggleable__content\"><pre>DecisionTreeClassifier(criterion=&#x27;entropy&#x27;, max_depth=12, random_state=0)</pre></div></div></div></div></div>"
      ],
      "text/plain": [
       "DecisionTreeClassifier(criterion='entropy', max_depth=12, random_state=0)"
      ]
     },
     "execution_count": 48,
     "metadata": {},
     "output_type": "execute_result"
    },
    {
     "data": {
      "image/png": "[encoded data removed]",
      "text/plain": [
       "<Figure size 1500x1000 with 1 Axes>"
      ]
     },
     "metadata": {},
     "output_type": "display_data"
    }
   ],
   "source": [
    "## Generating a tree\n",
    "# Importing the tree module from the scikit-learn library\n",
    "from sklearn import tree  \n",
    "# Importing the pyplot module from the matplotlib library\n",
    "import matplotlib.pyplot as plt  \n",
    "# Setting the size of the figure to (15, 10), in inches\n",
    "plt.figure(figsize=(15,10))  \n",
    "# Plotting the decision tree stored in the 'model' object, with filled nodes\n",
    "tree.plot_tree(model, filled=True)  \n",
    "model"
   ]
  },
  {
   "cell_type": "code",
   "execution_count": null,
   "id": "2db4d72c",
   "metadata": {},
   "outputs": [],
   "source": []
  },
  {
   "cell_type": "code",
   "execution_count": null,
   "id": "6337cbc0-1a2c-4c18-bb95-f6d8494bfddc",
   "metadata": {},
   "outputs": [],
   "source": []
  }
 ],
 "metadata": {
  "kernelspec": {
   "display_name": "Python 3 (ipykernel)",
   "language": "python",
   "name": "python3"
  },
  "language_info": {
   "codemirror_mode": {
    "name": "ipython",
    "version": 3
   },
   "file_extension": ".py",
   "mimetype": "text/x-python",
   "name": "python",
   "nbconvert_exporter": "python",
   "pygments_lexer": "ipython3",
   "version": "3.11.7"
  }
 },
 "nbformat": 4,
 "nbformat_minor": 5
}
