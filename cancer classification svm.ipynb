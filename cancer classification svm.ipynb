{
 "cells": [
  {
   "cell_type": "code",
   "execution_count": 2,
   "id": "da39de52-e0d2-409d-9479-59f723776bc6",
   "metadata": {},
   "outputs": [
    {
     "ename": "ModuleNotFoundError",
     "evalue": "No module named 'seaborn'",
     "output_type": "error",
     "traceback": [
      "\u001b[1;31m---------------------------------------------------------------------------\u001b[0m",
      "\u001b[1;31mModuleNotFoundError\u001b[0m                       Traceback (most recent call last)",
      "Cell \u001b[1;32mIn[2], line 6\u001b[0m\n\u001b[0;32m      4\u001b[0m \u001b[38;5;28;01mimport\u001b[39;00m \u001b[38;5;21;01mmatplotlib\u001b[39;00m\u001b[38;5;21;01m.\u001b[39;00m\u001b[38;5;21;01mpyplot\u001b[39;00m \u001b[38;5;28;01mas\u001b[39;00m \u001b[38;5;21;01mplt\u001b[39;00m\n\u001b[0;32m      5\u001b[0m get_ipython()\u001b[38;5;241m.\u001b[39mrun_line_magic(\u001b[38;5;124m'\u001b[39m\u001b[38;5;124mmatplotlib\u001b[39m\u001b[38;5;124m'\u001b[39m, \u001b[38;5;124m'\u001b[39m\u001b[38;5;124minline\u001b[39m\u001b[38;5;124m'\u001b[39m)\n\u001b[1;32m----> 6\u001b[0m \u001b[38;5;28;01mimport\u001b[39;00m \u001b[38;5;21;01mseaborn\u001b[39;00m \u001b[38;5;28;01mas\u001b[39;00m \u001b[38;5;21;01msns\u001b[39;00m\n\u001b[0;32m      8\u001b[0m \u001b[38;5;66;03m#import models from scikit learn module:\u001b[39;00m\n\u001b[0;32m      9\u001b[0m \u001b[38;5;28;01mfrom\u001b[39;00m \u001b[38;5;21;01msklearn\u001b[39;00m\u001b[38;5;21;01m.\u001b[39;00m\u001b[38;5;21;01mmodel_selection\u001b[39;00m \u001b[38;5;28;01mimport\u001b[39;00m train_test_split\n",
      "\u001b[1;31mModuleNotFoundError\u001b[0m: No module named 'seaborn'"
     ]
    }
   ],
   "source": [
    "#import required libraries\n",
    "import pandas as pd\n",
    "import numpy as np\n",
    "import matplotlib.pyplot as plt\n",
    "%matplotlib inline\n",
    "import seaborn as sns\n",
    "\n",
    "#import models from scikit learn module:\n",
    "from sklearn.model_selection import train_test_split\n",
    "from sklearn import metrics # performance evaluation\n"
   ]
  },
  {
   "cell_type": "code",
   "execution_count": 13,
   "id": "007127b6-2e21-4125-ad31-13acf0979448",
   "metadata": {},
   "outputs": [
    {
     "data": {
      "text/html": [
       "<div>\n",
       "<style scoped>\n",
       "    .dataframe tbody tr th:only-of-type {\n",
       "        vertical-align: middle;\n",
       "    }\n",
       "\n",
       "    .dataframe tbody tr th {\n",
       "        vertical-align: top;\n",
       "    }\n",
       "\n",
       "    .dataframe thead th {\n",
       "        text-align: right;\n",
       "    }\n",
       "</style>\n",
       "<table border=\"1\" class=\"dataframe\">\n",
       "  <thead>\n",
       "    <tr style=\"text-align: right;\">\n",
       "      <th></th>\n",
       "      <th>mean_radius</th>\n",
       "      <th>mean_texture</th>\n",
       "      <th>mean_perimeter</th>\n",
       "      <th>mean_area</th>\n",
       "      <th>mean_smoothness</th>\n",
       "      <th>diagnosis</th>\n",
       "    </tr>\n",
       "  </thead>\n",
       "  <tbody>\n",
       "    <tr>\n",
       "      <th>3</th>\n",
       "      <td>11.420</td>\n",
       "      <td>20.38</td>\n",
       "      <td>77.58</td>\n",
       "      <td>386.1</td>\n",
       "      <td>0.14250</td>\n",
       "      <td>0</td>\n",
       "    </tr>\n",
       "    <tr>\n",
       "      <th>201</th>\n",
       "      <td>17.540</td>\n",
       "      <td>19.32</td>\n",
       "      <td>115.10</td>\n",
       "      <td>951.6</td>\n",
       "      <td>0.08968</td>\n",
       "      <td>0</td>\n",
       "    </tr>\n",
       "    <tr>\n",
       "      <th>458</th>\n",
       "      <td>13.000</td>\n",
       "      <td>25.13</td>\n",
       "      <td>82.61</td>\n",
       "      <td>520.2</td>\n",
       "      <td>0.08369</td>\n",
       "      <td>1</td>\n",
       "    </tr>\n",
       "    <tr>\n",
       "      <th>155</th>\n",
       "      <td>12.250</td>\n",
       "      <td>17.94</td>\n",
       "      <td>78.27</td>\n",
       "      <td>460.3</td>\n",
       "      <td>0.08654</td>\n",
       "      <td>1</td>\n",
       "    </tr>\n",
       "    <tr>\n",
       "      <th>335</th>\n",
       "      <td>17.060</td>\n",
       "      <td>21.00</td>\n",
       "      <td>111.80</td>\n",
       "      <td>918.6</td>\n",
       "      <td>0.11190</td>\n",
       "      <td>0</td>\n",
       "    </tr>\n",
       "    <tr>\n",
       "      <th>557</th>\n",
       "      <td>9.423</td>\n",
       "      <td>27.88</td>\n",
       "      <td>59.26</td>\n",
       "      <td>271.3</td>\n",
       "      <td>0.08123</td>\n",
       "      <td>1</td>\n",
       "    </tr>\n",
       "    <tr>\n",
       "      <th>522</th>\n",
       "      <td>11.260</td>\n",
       "      <td>19.83</td>\n",
       "      <td>71.30</td>\n",
       "      <td>388.1</td>\n",
       "      <td>0.08511</td>\n",
       "      <td>1</td>\n",
       "    </tr>\n",
       "    <tr>\n",
       "      <th>541</th>\n",
       "      <td>14.470</td>\n",
       "      <td>24.99</td>\n",
       "      <td>95.81</td>\n",
       "      <td>656.4</td>\n",
       "      <td>0.08837</td>\n",
       "      <td>1</td>\n",
       "    </tr>\n",
       "    <tr>\n",
       "      <th>106</th>\n",
       "      <td>11.640</td>\n",
       "      <td>18.33</td>\n",
       "      <td>75.17</td>\n",
       "      <td>412.5</td>\n",
       "      <td>0.11420</td>\n",
       "      <td>1</td>\n",
       "    </tr>\n",
       "    <tr>\n",
       "      <th>151</th>\n",
       "      <td>8.219</td>\n",
       "      <td>20.70</td>\n",
       "      <td>53.27</td>\n",
       "      <td>203.9</td>\n",
       "      <td>0.09405</td>\n",
       "      <td>1</td>\n",
       "    </tr>\n",
       "  </tbody>\n",
       "</table>\n",
       "</div>"
      ],
      "text/plain": [
       "     mean_radius  mean_texture  mean_perimeter  mean_area  mean_smoothness  \\\n",
       "3         11.420         20.38           77.58      386.1          0.14250   \n",
       "201       17.540         19.32          115.10      951.6          0.08968   \n",
       "458       13.000         25.13           82.61      520.2          0.08369   \n",
       "155       12.250         17.94           78.27      460.3          0.08654   \n",
       "335       17.060         21.00          111.80      918.6          0.11190   \n",
       "557        9.423         27.88           59.26      271.3          0.08123   \n",
       "522       11.260         19.83           71.30      388.1          0.08511   \n",
       "541       14.470         24.99           95.81      656.4          0.08837   \n",
       "106       11.640         18.33           75.17      412.5          0.11420   \n",
       "151        8.219         20.70           53.27      203.9          0.09405   \n",
       "\n",
       "     diagnosis  \n",
       "3            0  \n",
       "201          0  \n",
       "458          1  \n",
       "155          1  \n",
       "335          0  \n",
       "557          1  \n",
       "522          1  \n",
       "541          1  \n",
       "106          1  \n",
       "151          1  "
      ]
     },
     "execution_count": 13,
     "metadata": {},
     "output_type": "execute_result"
    }
   ],
   "source": [
    "#import Data\n",
    "df_cancer = pd.read_csv('./data/Breast_cancer_data.csv')\n",
    "df_cancer.sample(10)\n",
    "\n",
    "# 0 means bening and 1 means malgnant "
   ]
  },
  {
   "cell_type": "code",
   "execution_count": 3,
   "id": "a189daeb-45e0-499d-9586-65c84431042c",
   "metadata": {},
   "outputs": [
    {
     "data": {
      "text/plain": [
       "mean_radius        212\n",
       "mean_texture       212\n",
       "mean_perimeter     212\n",
       "mean_area          212\n",
       "mean_smoothness    212\n",
       "diagnosis          212\n",
       "dtype: int64"
      ]
     },
     "execution_count": 3,
     "metadata": {},
     "output_type": "execute_result"
    }
   ],
   "source": [
    "#count number of diagnosed for cancer and not check the total df_cancer.shape\n",
    "df_cancer[df_cancer['diagnosis']==0].count() # benign \n"
   ]
  },
  {
   "cell_type": "code",
   "execution_count": 4,
   "id": "0b70130e-45ee-4280-b4e5-3bb0d9c7afd4",
   "metadata": {},
   "outputs": [
    {
     "data": {
      "text/plain": [
       "mean_radius        357\n",
       "mean_texture       357\n",
       "mean_perimeter     357\n",
       "mean_area          357\n",
       "mean_smoothness    357\n",
       "diagnosis          357\n",
       "dtype: int64"
      ]
     },
     "execution_count": 4,
     "metadata": {},
     "output_type": "execute_result"
    }
   ],
   "source": [
    "df_cancer[df_cancer['diagnosis']==1].count() # malignant"
   ]
  },
  {
   "cell_type": "markdown",
   "id": "259b398f-ad55-41ee-8885-cdbd823c272d",
   "metadata": {},
   "source": [
    "<h1> Handling of Missing/Categorical Data</h1>"
   ]
  },
  {
   "cell_type": "code",
   "execution_count": 5,
   "id": "9d3a8780-c81c-4efa-af1e-48112ba2ada4",
   "metadata": {},
   "outputs": [
    {
     "data": {
      "text/plain": [
       "mean_radius        0\n",
       "mean_texture       0\n",
       "mean_perimeter     0\n",
       "mean_area          0\n",
       "mean_smoothness    0\n",
       "diagnosis          0\n",
       "dtype: int64"
      ]
     },
     "execution_count": 5,
     "metadata": {},
     "output_type": "execute_result"
    }
   ],
   "source": [
    "#check how many values are missing (NaN)\n",
    "\n",
    "df_cancer.isnull().sum()\n",
    "\n",
    "#handling categorical data\n",
    "# if you were provided the diagnosis as benign and malignant \n",
    "#df_cancer['diagnosis'] = df_cancer['diagnosis'].map({'benign':0,'malignant':1})\n",
    "#df_cancer.head()"
   ]
  },
  {
   "cell_type": "markdown",
   "id": "e9a47403-e417-4e2a-9750-e38e47b00b3f",
   "metadata": {},
   "source": [
    "<h1>Visualize diagnos column\n",
    "</h1>"
   ]
  },
  {
   "cell_type": "code",
   "execution_count": 6,
   "id": "7f01599a-06b2-41c6-a3d2-882a3b18fd5f",
   "metadata": {},
   "outputs": [
    {
     "data": {
      "text/plain": [
       "Text(0.5, 1.0, 'number of Benign_0 vs Malignan_1')"
      ]
     },
     "execution_count": 6,
     "metadata": {},
     "output_type": "execute_result"
    },
    {
     "data": {
      "image/png": "[encoded data removed]",
      "text/plain": [
       "<Figure size 640x480 with 1 Axes>"
      ]
     },
     "metadata": {},
     "output_type": "display_data"
    }
   ],
   "source": [
    "sns.countplot(x='diagnosis',data = df_cancer)\n",
    "plt.title('number of Benign_0 vs Malignan_1')\n"
   ]
  },
  {
   "cell_type": "markdown",
   "id": "d8fcdd79-ae70-4e84-8e86-8832a4ab58f0",
   "metadata": {},
   "source": [
    "<h1>Splitting the Data-Set into Training Set and Test Set</h1>"
   ]
  },
  {
   "cell_type": "code",
   "execution_count": 7,
   "id": "61883a16-c7a4-43b9-b11b-0e5436c9eef1",
   "metadata": {},
   "outputs": [],
   "source": [
    "#define X variables and our target(y)\n",
    "X = df_cancer.drop(['diagnosis'],axis=1).values # ALTERNATIVE WAY TO CHOOSE DATA AXIS 1 MEANS COLOUMN LABEL 0 MEANS ROW LABEL \n",
    "y = df_cancer['diagnosis'].values#split Train and Test\n",
    "from sklearn.model_selection import train_test_split\n",
    "X_train, X_test, y_train, y_test = train_test_split(X, y, test_size=0.25, random_state=101)"
   ]
  },
  {
   "cell_type": "markdown",
   "id": "4439d468-4325-441c-aba9-92834de469be",
   "metadata": {},
   "source": [
    "<h1>Just Select the SVM model</h1>"
   ]
  },
  {
   "cell_type": "code",
   "execution_count": 8,
   "id": "8eb5b9fc-4483-427f-9f0a-e21785e1bbf4",
   "metadata": {},
   "outputs": [
    {
     "data": {
      "text/html": [
       "<style>#sk-container-id-1 {color: black;}#sk-container-id-1 pre{padding: 0;}#sk-container-id-1 div.sk-toggleable {background-color: white;}#sk-container-id-1 label.sk-toggleable__label {cursor: pointer;display: block;width: 100%;margin-bottom: 0;padding: 0.3em;box-sizing: border-box;text-align: center;}#sk-container-id-1 label.sk-toggleable__label-arrow:before {content: \"▸\";float: left;margin-right: 0.25em;color: #696969;}#sk-container-id-1 label.sk-toggleable__label-arrow:hover:before {color: black;}#sk-container-id-1 div.sk-estimator:hover label.sk-toggleable__label-arrow:before {color: black;}#sk-container-id-1 div.sk-toggleable__content {max-height: 0;max-width: 0;overflow: hidden;text-align: left;background-color: #f0f8ff;}#sk-container-id-1 div.sk-toggleable__content pre {margin: 0.2em;color: black;border-radius: 0.25em;background-color: #f0f8ff;}#sk-container-id-1 input.sk-toggleable__control:checked~div.sk-toggleable__content {max-height: 200px;max-width: 100%;overflow: auto;}#sk-container-id-1 input.sk-toggleable__control:checked~label.sk-toggleable__label-arrow:before {content: \"▾\";}#sk-container-id-1 div.sk-estimator input.sk-toggleable__control:checked~label.sk-toggleable__label {background-color: #d4ebff;}#sk-container-id-1 div.sk-label input.sk-toggleable__control:checked~label.sk-toggleable__label {background-color: #d4ebff;}#sk-container-id-1 input.sk-hidden--visually {border: 0;clip: rect(1px 1px 1px 1px);clip: rect(1px, 1px, 1px, 1px);height: 1px;margin: -1px;overflow: hidden;padding: 0;position: absolute;width: 1px;}#sk-container-id-1 div.sk-estimator {font-family: monospace;background-color: #f0f8ff;border: 1px dotted black;border-radius: 0.25em;box-sizing: border-box;margin-bottom: 0.5em;}#sk-container-id-1 div.sk-estimator:hover {background-color: #d4ebff;}#sk-container-id-1 div.sk-parallel-item::after {content: \"\";width: 100%;border-bottom: 1px solid gray;flex-grow: 1;}#sk-container-id-1 div.sk-label:hover label.sk-toggleable__label {background-color: #d4ebff;}#sk-container-id-1 div.sk-serial::before {content: \"\";position: absolute;border-left: 1px solid gray;box-sizing: border-box;top: 0;bottom: 0;left: 50%;z-index: 0;}#sk-container-id-1 div.sk-serial {display: flex;flex-direction: column;align-items: center;background-color: white;padding-right: 0.2em;padding-left: 0.2em;position: relative;}#sk-container-id-1 div.sk-item {position: relative;z-index: 1;}#sk-container-id-1 div.sk-parallel {display: flex;align-items: stretch;justify-content: center;background-color: white;position: relative;}#sk-container-id-1 div.sk-item::before, #sk-container-id-1 div.sk-parallel-item::before {content: \"\";position: absolute;border-left: 1px solid gray;box-sizing: border-box;top: 0;bottom: 0;left: 50%;z-index: -1;}#sk-container-id-1 div.sk-parallel-item {display: flex;flex-direction: column;z-index: 1;position: relative;background-color: white;}#sk-container-id-1 div.sk-parallel-item:first-child::after {align-self: flex-end;width: 50%;}#sk-container-id-1 div.sk-parallel-item:last-child::after {align-self: flex-start;width: 50%;}#sk-container-id-1 div.sk-parallel-item:only-child::after {width: 0;}#sk-container-id-1 div.sk-dashed-wrapped {border: 1px dashed gray;margin: 0 0.4em 0.5em 0.4em;box-sizing: border-box;padding-bottom: 0.4em;background-color: white;}#sk-container-id-1 div.sk-label label {font-family: monospace;font-weight: bold;display: inline-block;line-height: 1.2em;}#sk-container-id-1 div.sk-label-container {text-align: center;}#sk-container-id-1 div.sk-container {/* jupyter's `normalize.less` sets `[hidden] { display: none; }` but bootstrap.min.css set `[hidden] { display: none !important; }` so we also need the `!important` here to be able to override the default hidden behavior on the sphinx rendered scikit-learn.org. See: https://github.com/scikit-learn/scikit-learn/issues/21755 */display: inline-block !important;position: relative;}#sk-container-id-1 div.sk-text-repr-fallback {display: none;}</style><div id=\"sk-container-id-1\" class=\"sk-top-container\"><div class=\"sk-text-repr-fallback\"><pre>SVC()</pre><b>In a Jupyter environment, please rerun this cell to show the HTML representation or trust the notebook. <br />On GitHub, the HTML representation is unable to render, please try loading this page with nbviewer.org.</b></div><div class=\"sk-container\" hidden><div class=\"sk-item\"><div class=\"sk-estimator sk-toggleable\"><input class=\"sk-toggleable__control sk-hidden--visually\" id=\"sk-estimator-id-1\" type=\"checkbox\" checked><label for=\"sk-estimator-id-1\" class=\"sk-toggleable__label sk-toggleable__label-arrow\">SVC</label><div class=\"sk-toggleable__content\"><pre>SVC()</pre></div></div></div></div></div>"
      ],
      "text/plain": [
       "SVC()"
      ]
     },
     "execution_count": 8,
     "metadata": {},
     "output_type": "execute_result"
    }
   ],
   "source": [
    "from sklearn.svm import SVC # support vector classification model \n",
    "svc_model = SVC()\n",
    "svc_model.fit(X_train, y_train) # train our model with the given data "
   ]
  },
  {
   "cell_type": "markdown",
   "id": "3f2a047d-736f-4db3-9f7b-7178de6c494d",
   "metadata": {},
   "source": [
    "<h1>Test our model performance </h1>"
   ]
  },
  {
   "cell_type": "code",
   "execution_count": 9,
   "id": "9c96508a-e7e7-49ef-82c0-aeb83146d89a",
   "metadata": {},
   "outputs": [
    {
     "data": {
      "text/plain": [
       "<Axes: >"
      ]
     },
     "execution_count": 9,
     "metadata": {},
     "output_type": "execute_result"
    },
    {
     "data": {
      "image/png": "[encoded data removed]",
      "text/plain": [
       "<Figure size 640x480 with 2 Axes>"
      ]
     },
     "metadata": {},
     "output_type": "display_data"
    }
   ],
   "source": [
    "from sklearn.metrics import classification_report, confusion_matrix\n",
    "\n",
    "y_predict = svc_model.predict(X_test) # predict the test data \n",
    "cm = confusion_matrix(y_test, y_predict) # check the pridicted value with test data confusion matrix \n",
    "sns.heatmap(cm,annot=True) # seaborn used to plot the confusion matrix result "
   ]
  },
  {
   "cell_type": "code",
   "execution_count": 10,
   "id": "87a34477-d68e-4ce4-810b-9f3d44055f2c",
   "metadata": {},
   "outputs": [],
   "source": [
    "classficationreport=classification_report(y_test,y_predict)\n"
   ]
  },
  {
   "cell_type": "markdown",
   "id": "988ffafe-c87d-4e17-95cf-aebb403d93c4",
   "metadata": {},
   "source": [
    "<img src='breast cancerreport.png' ></img>"
   ]
  },
  {
   "cell_type": "markdown",
   "id": "04a54208-a738-447f-bdf5-c520dc20390f",
   "metadata": {},
   "source": [
    "<h3>What does the confusion_matrix information result mean?: 0 benign(no) and 1 malagnant(yes) <h3>\n",
    "<pre>\n",
    "    We had 143 women in our test set.\n",
    "    Out of 55 women predicted to not have breast cancer(0), two were classified as not having when actually they had (type one error).\n",
    "    Out of 88 women predicted to have breast cancer(1), 14 were classified as having breast cancer whey they did not (type two error).\n",
    "</pre>\n",
    "<h3>What does this classification report result mean? \n",
    "Basically it means that the SVM Model was able to classify tumors into malignant and benign with 89% </h3>\n"
   ]
  },
  {
   "cell_type": "code",
   "execution_count": 11,
   "id": "c19ef5c8-a13e-40a6-9df0-7def4bd653e8",
   "metadata": {},
   "outputs": [
    {
     "data": {
      "text/plain": [
       "array([0, 1])"
      ]
     },
     "execution_count": 11,
     "metadata": {},
     "output_type": "execute_result"
    }
   ],
   "source": [
    "\n",
    "# We have the trained model called svm_model\n",
    "new_data=[[17.99 ,10.38,2.80,1001.0,0.11840],[12.99 ,5.38,122.80,6.0,0.11840]]\n",
    "\n",
    "predictions = svc_model.predict(new_data)\n",
    "predictions\n"
   ]
  },
  {
   "cell_type": "code",
   "execution_count": null,
   "id": "8c446312-6b42-4043-86f9-175cdd3f1d31",
   "metadata": {},
   "outputs": [],
   "source": []
  }
 ],
 "metadata": {
  "kernelspec": {
   "display_name": "Python 3",
   "language": "python",
   "name": "python3"
  },
  "language_info": {
   "codemirror_mode": {
    "name": "ipython",
    "version": 3
   },
   "file_extension": ".py",
   "mimetype": "text/x-python",
   "name": "python",
   "nbconvert_exporter": "python",
   "pygments_lexer": "ipython3",
   "version": "3.12.6"
  }
 },
 "nbformat": 4,
 "nbformat_minor": 5
}
